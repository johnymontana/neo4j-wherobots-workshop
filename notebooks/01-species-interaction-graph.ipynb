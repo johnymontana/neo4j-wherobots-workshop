{
 "cells": [
  {
   "cell_type": "markdown",
   "id": "e1bef71a-a935-4670-9cd9-db98088ad909",
   "metadata": {},
   "source": [
    "## Hands-On Workshop\n",
    "## Large-Scale Geospatial Analytics With Wherobots, Neo4j, & The PyData Ecosystem\n",
    "\n",
    "This workshop demonstrates how to use \n",
    "\n",
    "This notebook covers :\n",
    "\n",
    "* Calculating bird species range using Spatial SQL\n",
    "* Building and analyzing a bird species interaction graph with Neo4j\n",
    "* Analyzing raster data (precipitation) to enrich our graph \n",
    "* Searching Overture Maps point of interest data to find National Parks in each species range"
   ]
  },
  {
   "cell_type": "markdown",
   "id": "f74c4ec9-a9fa-4ff8-bce1-14897a26d3b5",
   "metadata": {},
   "source": [
    "## Import Dependencies\n",
    "\n"
   ]
  },
  {
   "cell_type": "code",
   "execution_count": null,
   "id": "3a98012d-9388-4bcb-a955-86f7b94697fb",
   "metadata": {},
   "outputs": [],
   "source": []
  },
  {
   "cell_type": "code",
   "execution_count": null,
   "id": "adf7a74e-8184-4ac3-b954-6aee7ebb8958",
   "metadata": {},
   "outputs": [],
   "source": [
    "from sedona.spark import *\n",
    "import geopandas\n",
    "import json"
   ]
  },
  {
   "cell_type": "markdown",
   "id": "11fc71f6-8394-4909-9231-13828906e9a7",
   "metadata": {},
   "source": [
    "## Configure SedonaContext"
   ]
  },
  {
   "cell_type": "code",
   "execution_count": null,
   "id": "6da2060b-bb23-4918-9fdc-94b18b331245",
   "metadata": {},
   "outputs": [],
   "source": [
    "# Configure SedonaContext, specify credentials for AWS S3 bucket(s) (optional)\n",
    "\n",
    "config = SedonaContext.builder(). \\\n",
    "    config(\"spark.hadoop.fs.s3a.bucket.wherobots-examples.aws.credentials.provider\",\"org.apache.hadoop.fs.s3a.AnonymousAWSCredentialsProvider\"). \\\n",
    "    getOrCreate()\n",
    "\n",
    "sedona = SedonaContext.create(config)"
   ]
  },
  {
   "cell_type": "markdown",
   "id": "a8d817da-84da-4072-aa15-7421bddaab2e",
   "metadata": {},
   "source": [
    "## Calculating Bird Species Range\n",
    "\n",
    "We'll load a dataset of bird species observations, then calculate the range of each species using Spatial SQL.\n",
    "\n",
    "Our data comes from [Bird Buddy](https://live.mybirdbuddy.com/) which makes a smart bird feeder than can identify bird species and (optionally) report their location.\n",
    "\n",
    "![](https://wherobots.com/wp-content/uploads/2023/11/bird_buddy1.png)\n",
    "\n",
    "\n",
    "The data is availabe in CSV format which we can load using Sedona's built-in CSV reader."
   ]
  },
  {
   "cell_type": "code",
   "execution_count": null,
   "id": "d3bf846c-b75a-4da0-b7f1-712a17525eba",
   "metadata": {},
   "outputs": [],
   "source": [
    "BB_S3_URL = \"s3://wherobots-examples/data/examples/birdbuddy_oct23.csv\"\n",
    "bb_df = sedona.read.format('csv').option('header','true').option('delimiter', ',').load(BB_S3_URL)\n",
    "bb_df.show(5, truncate=False)"
   ]
  },
  {
   "cell_type": "markdown",
   "id": "4aa912e0-a304-4a7d-9574-c550453d0dd1",
   "metadata": {},
   "source": [
    "Note, however that we'll need to explicitly convert the `anonymized_latitude` and `anonymized_longitude` fields into a `geometry` field to work with the point locations. To do this we'll use the [`ST_Point` Spatial SQL function.](https://docs.wherobots.services/1.2.2/references/sedonadb/vector-data/Constructor/#st_point)"
   ]
  },
  {
   "cell_type": "code",
   "execution_count": null,
   "id": "8ff045db-b9e7-47c5-b136-2df7dba71c44",
   "metadata": {},
   "outputs": [],
   "source": [
    "bb_df = bb_df.selectExpr('ST_Point(CAST(anonymized_longitude AS float), CAST(anonymized_latitude AS float)) AS location', 'CAST(timestamp AS timestamp) AS timestamp', 'common_name', 'scientific_name')\n",
    "bb_df.createOrReplaceTempView('bb')\n",
    "bb_df.show(15, truncate=False)"
   ]
  },
  {
   "cell_type": "code",
   "execution_count": null,
   "id": "1953a93e-a119-4741-9ec2-cea8bf7954ee",
   "metadata": {},
   "outputs": [],
   "source": [
    "bb_df.printSchema()\n"
   ]
  },
  {
   "cell_type": "code",
   "execution_count": null,
   "id": "7cc436f3-002d-427e-8e2e-81688c1602b2",
   "metadata": {},
   "outputs": [],
   "source": [
    "bb_df.count()\n"
   ]
  },
  {
   "cell_type": "markdown",
   "id": "b6f9c28f-90c2-49b0-9054-f3c2980cb364",
   "metadata": {},
   "source": [
    "We can visualize our species observation data using [`SedonaKepler`, the Kepler GL integration for Sedona.](https://docs.wherobots.services/1.2.2/references/sedonadb/vector-data/Visualization_SedonaKepler/?h=sedonakepler)"
   ]
  },
  {
   "cell_type": "code",
   "execution_count": null,
   "id": "34c24e79-9bd5-497f-a9d1-bb2aac04a4e6",
   "metadata": {},
   "outputs": [],
   "source": [
    "SedonaKepler.create_map(bb_df.sample(0.005), name=\"Bird species observations\")"
   ]
  },
  {
   "cell_type": "markdown",
   "id": "04cd2a26-d0f6-4aa5-90ef-2187850b9035",
   "metadata": {},
   "source": [
    "## Calculating Species Range Extent\n",
    "\n",
    "Our goal is to build a graph of species interactions. To do this we first must calculate the range extent of each species based on the point observation data. To do this we will calculate a convex hull for each species' observations. A convex hull is the smallest polygon that can be drawn around a group of points that will enclose each point.\n",
    "\n",
    "![](https://wherobots.com/wp-content/uploads/2024/03/HRe9kN3VEohA2YVqRmpW2Eb6YKOuhvd4qA.png)\n",
    "\n",
    "[Image Credit - EcoCommons](https://support.ecocommons.org.au/support/solutions/articles/6000254290-convex-hull)\n",
    "\n",
    "To do this we will make use of the [ST_ConvexHull spatial SQL function](https://docs.wherobots.services/1.2.2/references/sedonadb/vector-data/Function/?h=st_convexhull#st_convexhull), along with an aggregation and `GROUP BY` statement."
   ]
  },
  {
   "cell_type": "code",
   "execution_count": null,
   "id": "585c3709-10df-4f7f-93ef-3a1009f441a3",
   "metadata": {},
   "outputs": [],
   "source": [
    "# To simply our initial analysis we'll filter for a subset of species.\n",
    "\n",
    "range_df = sedona.sql(\"\"\"\n",
    "    SELECT common_name, COUNT(*) AS num, ST_ConvexHull(ST_Union_aggr(location)) AS geometry \n",
    "    FROM bb \n",
    "    WHERE common_name IN ('california towhee', 'steller’s jay', 'mountain chickadee', 'eastern bluebird', 'wood thrush', 'yellow headed blackbird', 'spot breasted oriole', \n",
    "      'red cockaded woodpecker', 'northern red bishop', 'red naped sapsucker', 'western meadowlark', 'lazuli bunting', 'clark’s nutcracker', 'gray crowned rosy finch', 'california quail',\n",
    "      'boreal chickadee', 'acorn woodpecker', 'townsend’s warbler', 'gambel’s quail', 'scott’s oriole', 'cassin’s finch', 'brown headed nuthatch', 'pygmy nuthatch', 'pinyon jay', 'florida scrub jay') \n",
    "    GROUP BY common_name \n",
    "    ORDER BY num DESC\n",
    "\"\"\")\n",
    "range_df.show(30)"
   ]
  },
  {
   "cell_type": "code",
   "execution_count": null,
   "id": "a209c2d5-88f1-46c0-977f-ba57f4d8b2fa",
   "metadata": {},
   "outputs": [],
   "source": [
    "range_df.createOrReplaceTempView(\"ranges\")"
   ]
  },
  {
   "cell_type": "code",
   "execution_count": null,
   "id": "d79acce0-3f41-4096-8f7d-ccfa5300cf88",
   "metadata": {},
   "outputs": [],
   "source": [
    "range_df = range_df.cache()"
   ]
  },
  {
   "cell_type": "code",
   "execution_count": null,
   "id": "70a26794-89dd-4895-adb8-402d65ac09fd",
   "metadata": {},
   "outputs": [],
   "source": []
  },
  {
   "cell_type": "code",
   "execution_count": null,
   "id": "02b09c34-ccb5-4600-9e37-4dc1cf6b42da",
   "metadata": {},
   "outputs": [],
   "source": [
    "SedonaKepler.create_map(df=range_df, name=\"Bird species range\")\n"
   ]
  },
  {
   "cell_type": "markdown",
   "id": "33589c12-8f07-4a71-889d-79b20743437b",
   "metadata": {},
   "source": [
    "## Determine Species Range Intersection\n",
    "\n",
    "The next step in building our species interaction graph is to determine which species range's intersect. To do this we will use the [`ST_Intersects` predicate](https://docs.wherobots.services/1.2.2/references/sedonadb/vector-data/Predicate/#st_intersects) Spatial SQL function. We'll also calculate the centroid of each range using the [`ST_Centroid` function](https://docs.wherobots.services/1.2.2/references/sedonadb/vector-data/Function/#st_centroid) which will allow us to represent the species range as a single point geometry, instead of a polygon."
   ]
  },
  {
   "cell_type": "code",
   "execution_count": null,
   "id": "55ceb7db-fb69-4418-9da5-4d2757e298af",
   "metadata": {},
   "outputs": [],
   "source": []
  },
  {
   "cell_type": "code",
   "execution_count": null,
   "id": "7ab5c3d6-8d6e-4a42-8406-6c44e14bf522",
   "metadata": {},
   "outputs": [],
   "source": [
    "intersect_df = sedona.sql(\"\"\"\n",
    "    WITH birds AS (SELECT * FROM ranges)\n",
    "    SELECT\n",
    "      birds.common_name, \n",
    "      ST_Centroid(any_value(birds.geometry)) AS centroid, \n",
    "      collect_list(ranges.common_name) AS intersects\n",
    "    FROM ranges, birds\n",
    "    WHERE \n",
    "      ST_Intersects(birds.geometry, ranges.geometry) \n",
    "      AND NOT birds.common_name=ranges.common_name\n",
    "    GROUP BY birds.common_name\n",
    "\"\"\")"
   ]
  },
  {
   "cell_type": "code",
   "execution_count": null,
   "id": "ce0be702-a4f2-440a-8b14-db953d478fff",
   "metadata": {},
   "outputs": [],
   "source": [
    "intersect_df.show()"
   ]
  },
  {
   "cell_type": "code",
   "execution_count": null,
   "id": "891d0917-1169-422f-a69c-db68b857e0dc",
   "metadata": {},
   "outputs": [],
   "source": [
    "intersect_df.createOrReplaceTempView(\"intersects\")"
   ]
  },
  {
   "cell_type": "code",
   "execution_count": null,
   "id": "0dc3ee68-51cc-4495-aced-b58c29800479",
   "metadata": {},
   "outputs": [],
   "source": []
  },
  {
   "cell_type": "code",
   "execution_count": null,
   "id": "cfbcd3ff-6f7d-43b9-b6fc-ec30ad7315fe",
   "metadata": {},
   "outputs": [],
   "source": []
  },
  {
   "cell_type": "markdown",
   "id": "be0c7d87-651c-493d-915a-0f7a4fb1e9df",
   "metadata": {},
   "source": [
    "## Build A Graph Of Bird Species Interactions\n",
    "\n",
    "Next, we'll load into Neo4j our bird species data, creating a graph of bird species that have overlapping range. This will allow us to answer questions related to ecology, disease transmission, and conservation.\n",
    "\n",
    "### Define The Graph Model\n",
    "\n",
    "The first step when building a graph is always to define the graph data model. A great tool to sketch out our graph data model is [Arrows.app](https://arrows.app). In this case our data model will be fairly simple:\n",
    "\n",
    "![](https://wherobots.com/wp-content/uploads/2024/03/bird_species_range.png)"
   ]
  },
  {
   "cell_type": "markdown",
   "id": "a289758a-1744-43bf-96db-ae801075d0c1",
   "metadata": {},
   "source": [
    "### Working With The Neo4j Python Driver\n",
    "\n",
    "We can use the [official Neo4j Python driver](https://neo4j.com/docs/python-manual/current/) to execute Cypher queries in a Neo4j database from a Python environment, like this hosted Jupyter notebook.\n"
   ]
  },
  {
   "cell_type": "code",
   "execution_count": null,
   "id": "de8ef860-c5a4-46c8-9a4f-2d2be8d5411d",
   "metadata": {},
   "outputs": [],
   "source": [
    "!pip install neo4j"
   ]
  },
  {
   "cell_type": "code",
   "execution_count": null,
   "id": "fae691a3-bda2-4221-b184-edf4ddb8a99b",
   "metadata": {},
   "outputs": [],
   "source": [
    "from neo4j import GraphDatabase"
   ]
  },
  {
   "cell_type": "code",
   "execution_count": null,
   "id": "c2ec2372-2dea-42b6-9c86-9250e331223f",
   "metadata": {},
   "outputs": [],
   "source": [
    "# Fill in your Neo4j Aura credentials\n",
    "URI = \"neo4j+s://<YOUR_AURA_INSTANCE_HERE>.databases.neo4j.io\"\n",
    "AUTH = (\"neo4j\", \"<YOUR_PASSWORD_HERE>\")"
   ]
  },
  {
   "cell_type": "code",
   "execution_count": null,
   "id": "e136b7b0-4257-456d-affa-36dda8479d3f",
   "metadata": {},
   "outputs": [],
   "source": [
    "with GraphDatabase.driver(URI, auth=AUTH) as driver:\n",
    "    driver.verify_connectivity()\n",
    "    records, summary, keys = driver.execute_query(\n",
    "        \"MATCH (n) RETURN COUNT(n) AS num\"\n",
    "    )\n",
    "    for record in records:\n",
    "        print(record)"
   ]
  },
  {
   "cell_type": "code",
   "execution_count": null,
   "id": "84340914-7c42-49ce-aed7-bb8ca3be0f5d",
   "metadata": {},
   "outputs": [],
   "source": []
  },
  {
   "cell_type": "markdown",
   "id": "01a7271f-835b-48b1-b68c-96291d09a111",
   "metadata": {},
   "source": [
    "### Batch Neo4j Imports Using Geopandas and GeoJSON\n",
    "\n",
    "When loading large amounts of data into Neo4j we typically want to batch operations across transactions to efficiently handle memory usage.  By iterating over a DataFrame object and operating in batches we can ensure we don't build up too much transaction state in memory. Note that with the size of our bird ranges in this example this isn't really necessary, but this approach will be useful when working with larger data sizes. \n",
    "\n",
    "We'll make use of [GeoPandas](https://geopandas.org/en/stable/index.html), which extends the Pandas DataFrame data structure to add geospatial functionality and integration with Python tooling. "
   ]
  },
  {
   "cell_type": "code",
   "execution_count": null,
   "id": "518e5bf9-f5cf-4a78-a6f3-dbaec12d3333",
   "metadata": {},
   "outputs": [],
   "source": []
  },
  {
   "cell_type": "code",
   "execution_count": null,
   "id": "9a66d464-4e1d-432a-8a7b-7b5eda33f16a",
   "metadata": {},
   "outputs": [],
   "source": [
    "birds_gdf = geopandas.GeoDataFrame(intersect_df.toPandas(), geometry=\"centroid\")"
   ]
  },
  {
   "cell_type": "code",
   "execution_count": null,
   "id": "1e882f14-f0b7-4a2a-9aeb-22169a00284d",
   "metadata": {},
   "outputs": [],
   "source": [
    "birds_gdf"
   ]
  },
  {
   "cell_type": "markdown",
   "id": "60158ce7-dc97-4ddf-ad21-8f8df7da42ae",
   "metadata": {},
   "source": [
    "GeoPandas can convert rows to GeoJSON, which we'll pass as a parameter with our Cypher query to create the nodes and relationships in our graph."
   ]
  },
  {
   "cell_type": "code",
   "execution_count": null,
   "id": "edb2dc02-0c37-41c5-83e9-785af07a0a7f",
   "metadata": {},
   "outputs": [],
   "source": [
    "json.loads(birds_gdf[0:1].to_json())['features']"
   ]
  },
  {
   "cell_type": "markdown",
   "id": "8299d103-6722-4e0e-a7f3-85849b5cbd58",
   "metadata": {},
   "source": [
    "Next, we define a parameterized Cypher query to create `Species` nodes for each bird range and then iterate over the `intersects` array, creating the `RANGE_OVERLAP` relationship for each intersecting species."
   ]
  },
  {
   "cell_type": "code",
   "execution_count": null,
   "id": "8a44e808-0e14-4b6a-a0a2-f74083aab120",
   "metadata": {},
   "outputs": [],
   "source": [
    "neo4j_query = \"\"\"\n",
    "UNWIND $rows AS row\n",
    "MERGE (s:Species {common_name: row.properties.common_name})\n",
    "SET s.centroid = Point({longitude: row.geometry.coordinates[0], latitude: row.geometry.coordinates[1]})\n",
    "WITH s, row\n",
    "UNWIND row.properties.intersects AS bird\n",
    "MERGE (b:Species {common_name: bird})\n",
    "MERGE (s)-[:RANGE_OVERLAP]-(b)\n",
    "RETURN COUNT(*) AS total\n",
    "\"\"\""
   ]
  },
  {
   "cell_type": "code",
   "execution_count": null,
   "id": "0df85f1b-e277-4894-a72f-15b410e6f85b",
   "metadata": {},
   "outputs": [],
   "source": []
  },
  {
   "cell_type": "code",
   "execution_count": null,
   "id": "f17b7d6f-896d-4663-8c1c-a7818137311a",
   "metadata": {},
   "outputs": [],
   "source": []
  },
  {
   "cell_type": "code",
   "execution_count": null,
   "id": "f793c5b1-2784-4e4a-9388-20f5af75e577",
   "metadata": {},
   "outputs": [],
   "source": []
  },
  {
   "cell_type": "code",
   "execution_count": null,
   "id": "b29e214d-cdd8-4317-8c61-6c2b8abb379c",
   "metadata": {},
   "outputs": [],
   "source": [
    "def insert_data(tx, query, rows, batch_size=1000):\n",
    "    total = 0\n",
    "    batch = 0\n",
    "    while batch * batch_size < len(rows):\n",
    "        print(batch)\n",
    "        print(batch_size)\n",
    "        results = tx.run(query, parameters = {\n",
    "            'rows': json.loads(rows[batch * batch_size : (batch + 1) * batch_size].to_json())['features']\n",
    "        }).data()\n",
    "        print(results)\n",
    "        total += results[0]['total']\n",
    "        batch += 1\n",
    "    "
   ]
  },
  {
   "cell_type": "code",
   "execution_count": null,
   "id": "75bb5f0c-3c0d-4f68-a6f6-6d2656201494",
   "metadata": {},
   "outputs": [],
   "source": [
    "with GraphDatabase.driver(URI, auth=AUTH) as driver:\n",
    "    driver.verify_connectivity()\n",
    "    with driver.session() as session:\n",
    "        session.execute_write(insert_data, neo4j_query, birds_gdf)"
   ]
  },
  {
   "cell_type": "markdown",
   "id": "14942784-3201-41ed-a6dd-45f5733d598d",
   "metadata": {},
   "source": [
    "## Exercise - Graph Analysis With Cypher & Neo4j\n",
    "\n"
   ]
  },
  {
   "cell_type": "code",
   "execution_count": null,
   "id": "4d9e2e23-a9b1-4013-8ab9-01056de1ad94",
   "metadata": {},
   "outputs": [],
   "source": []
  },
  {
   "cell_type": "markdown",
   "id": "96724ac9-2eb0-4fcd-a485-bec7588f9a83",
   "metadata": {},
   "source": [
    "## Working With Raster Data\n",
    "\n",
    "So far we've been working with *vector* geospatial data - geometries and their associated attributes. Another important type of geospatial data is *raster* data.\n",
    "\n",
    "\n",
    "![](https://wherobots.com/wp-content/uploads/2024/02/raster_concept.png)\n"
   ]
  },
  {
   "cell_type": "code",
   "execution_count": null,
   "id": "67aabc9c-3fd4-4a3a-9492-83951a53b8c7",
   "metadata": {},
   "outputs": [],
   "source": []
  },
  {
   "cell_type": "markdown",
   "id": "dc2aef3e-f1e8-454c-a4a4-253a0fdf33fd",
   "metadata": {},
   "source": [
    "### Calculating Precipitation \n",
    "\n",
    "Understanding the climate of each species' range can be an important aspect of ecological analysis. Using historical climate data from [WorldClim](https://www.worldclim.org/data/worldclim21.html) we can calculate statistics about each area.\n",
    "\n",
    "#### Zonal Statistics\n",
    "\n",
    "Zonal statistics are calculations applied to raster data, using the bounds of another raster or vector geometry. For example, calculating the average value of all cells within the bounds of a city.\n",
    "\n",
    "In Sedona we can calculate zonal statistics using the [`RS_ZonalStats` Spatial SQL function.](https://docs.wherobots.services/1.2.2/references/sedonadb/raster-data/Raster-operators/#rs_zonalstats)\n",
    "\n",
    "![](https://wherobots.com/wp-content/uploads/2024/03/Zonal-statistics-operation.png)"
   ]
  },
  {
   "cell_type": "code",
   "execution_count": null,
   "id": "7267e16f-1a4d-4b8b-bbd7-d524fc6f1421",
   "metadata": {},
   "outputs": [],
   "source": [
    "PREC_URL = \"s3://wherobots-examples/data/examples/world_clim/wc2.1_10m_prec\" #/wc2.1_10m_prec_01.tif\n",
    "rawDf = sedona.read.format(\"binaryFile\").load(PREC_URL + \"/*.tif\")\n",
    "rawDf.createOrReplaceTempView(\"rawdf\")"
   ]
  },
  {
   "cell_type": "code",
   "execution_count": null,
   "id": "4e3077a9-7bc8-4eeb-b2fc-cb0798dc54e5",
   "metadata": {},
   "outputs": [],
   "source": [
    "rasterDf = sedona.sql(\"\"\"\n",
    "SELECT \n",
    "  RS_FromGeoTiff(content) AS raster, \n",
    "  Int(regexp_extract(path, '(.*)([0-9]{2}).tif', 2)) AS month\n",
    "FROM rawdf\n",
    "\"\"\")\n",
    "\n",
    "rasterDf.createOrReplaceTempView(\"prec\")\n",
    "rasterDf.printSchema()"
   ]
  },
  {
   "cell_type": "code",
   "execution_count": null,
   "id": "e1ef00b8-523f-40ec-a41f-06e677e6f9f9",
   "metadata": {},
   "outputs": [],
   "source": [
    "world_prec_df = sedona.sql(\"\"\"\n",
    "SELECT \n",
    "  sum(RS_ZonalStats(prec.raster, ranges.geometry, 1, 'avg', true)) AS yearly_avg_prec,  \n",
    "  any_value(ranges.geometry) AS geometry, \n",
    "  ranges.common_name\n",
    "FROM prec, ranges\n",
    "GROUP BY common_name\n",
    "ORDER BY yearly_avg_prec DESC\n",
    "\"\"\")\n",
    "world_prec_df.dropna().show()"
   ]
  },
  {
   "cell_type": "code",
   "execution_count": null,
   "id": "2fa31aff-396e-4ca6-a2ea-b0f9554a53d1",
   "metadata": {},
   "outputs": [],
   "source": [
    "SedonaKepler.create_map(world_prec_df, name=\"Precipitation\")"
   ]
  },
  {
   "cell_type": "markdown",
   "id": "8615a1fc-9745-42d4-a703-93b0583ed50e",
   "metadata": {},
   "source": [
    "### Enriching The Species Interaction Graph\n",
    "\n",
    "Let's update the species interaction graph with this precipiation information, adding a property `annual_precip`.\n",
    "\n",
    "![](https://wherobots.com/wp-content/uploads/2024/03/Untitled-graph.png)"
   ]
  },
  {
   "cell_type": "code",
   "execution_count": null,
   "id": "0c53a676-699c-4041-8db9-bdd398c94b16",
   "metadata": {},
   "outputs": [],
   "source": [
    "precip_gdf = geopandas.GeoDataFrame(world_prec_df.toPandas(), geometry=\"geometry\")"
   ]
  },
  {
   "cell_type": "code",
   "execution_count": null,
   "id": "fab8402c-5121-4e8c-821f-ffdcc288e90b",
   "metadata": {},
   "outputs": [],
   "source": [
    "precip_update_query = \"\"\"\n",
    "UNWIND $rows AS row\n",
    "MATCH (s:Species {common_name: row.properties.common_name})\n",
    "SET s.annual_precip = row.properties.yearly_avg_prec\n",
    "RETURN COUNT(*) AS total\n",
    "\"\"\""
   ]
  },
  {
   "cell_type": "code",
   "execution_count": null,
   "id": "9992c485-b777-4813-9089-0eeb515b3c57",
   "metadata": {},
   "outputs": [],
   "source": [
    "with GraphDatabase.driver(URI, auth=AUTH) as driver:\n",
    "    driver.verify_connectivity()\n",
    "    with driver.session() as session:\n",
    "        session.execute_write(insert_data, precip_update_query, precip_gdf)"
   ]
  },
  {
   "cell_type": "code",
   "execution_count": null,
   "id": "56f496cf-79a9-41c3-94db-17253561ec3e",
   "metadata": {},
   "outputs": [],
   "source": []
  },
  {
   "cell_type": "markdown",
   "id": "134eacb4-5dcb-4fb8-b067-20c8ddbafc4b",
   "metadata": {},
   "source": [
    "## Overture Example\n",
    "\n",
    "Understanding what protected lands may be within the range of each species is important for conservation planning. We can use [Overture Maps data](https://docs.overturemaps.org/) available with the [Wherobots Open Data Catalog](https://docs.wherobots.services/1.2.2/tutorials/opendata/introduction/) to search for national parks within each species range."
   ]
  },
  {
   "cell_type": "code",
   "execution_count": null,
   "id": "dee9645d-8097-4f3f-8be5-485448d2dc5d",
   "metadata": {},
   "outputs": [],
   "source": [
    "# find national parks within each species range"
   ]
  },
  {
   "cell_type": "code",
   "execution_count": null,
   "id": "7aaf7394-25ae-4b3e-8dd7-66a04e097538",
   "metadata": {},
   "outputs": [],
   "source": [
    "sedona.table('wherobots_open_data.overture_2024_02_15.base_landUse').printSchema()"
   ]
  },
  {
   "cell_type": "code",
   "execution_count": null,
   "id": "39beb777-2655-46a9-8b36-83621b278277",
   "metadata": {},
   "outputs": [],
   "source": [
    "park_df = sedona.sql(\"\"\"\n",
    "SELECT \n",
    "  names.primary AS park, \n",
    "  collect_list(common_name) AS species, \n",
    "  any_value(wherobots_open_data.overture_2024_02_15.base_landUse.geometry) AS geometry\n",
    "FROM wherobots_open_data.overture_2024_02_15.base_landUse, ranges\n",
    "WHERE ST_Intersects(ranges.geometry, wherobots_open_data.overture_2024_02_15.base_landUse.geometry) AND names.primary IS NOT NULL\n",
    "AND wherobots_open_data.overture_2024_02_15.base_landUse.class = \"nationalPark\"\n",
    "GROUP BY park\n",
    "\"\"\")"
   ]
  },
  {
   "cell_type": "code",
   "execution_count": null,
   "id": "32d79856-54e4-4d21-94d6-d3455797e7cd",
   "metadata": {},
   "outputs": [],
   "source": [
    "park_df.show()"
   ]
  },
  {
   "cell_type": "code",
   "execution_count": null,
   "id": "35bc589e-5efa-4e32-bc15-3779845e9595",
   "metadata": {},
   "outputs": [],
   "source": [
    "park_df.count()"
   ]
  },
  {
   "cell_type": "code",
   "execution_count": null,
   "id": "073f4ebb-74ae-4af5-9d94-c915c22e470e",
   "metadata": {},
   "outputs": [],
   "source": [
    "park_map = SedonaKepler.create_map()\n",
    "SedonaKepler.add_df(park_map, park_df, name=\"Parks\")\n",
    "SedonaKepler.add_df(park_map, range_df, name=\"Birds\")\n",
    "park_map"
   ]
  },
  {
   "cell_type": "code",
   "execution_count": null,
   "id": "b06fd6ee-ef81-4a1e-a7c3-d043457619ca",
   "metadata": {},
   "outputs": [],
   "source": [
    "park_df = sedona.sql(\"\"\"\n",
    "SELECT \n",
    "  names.primary AS park, \n",
    "  collect_list(common_name) AS species, \n",
    "  ST_Centroid(any_value(wherobots_open_data.overture_2024_02_15.base_landUse.geometry)) AS geometry\n",
    "FROM wherobots_open_data.overture_2024_02_15.base_landUse, ranges\n",
    "WHERE ST_Intersects(ranges.geometry, wherobots_open_data.overture_2024_02_15.base_landUse.geometry) AND names.primary IS NOT NULL\n",
    "AND wherobots_open_data.overture_2024_02_15.base_landUse.class = \"nationalPark\"\n",
    "GROUP BY park\n",
    "\"\"\")"
   ]
  },
  {
   "cell_type": "code",
   "execution_count": null,
   "id": "fe0e27e0-8c30-45ec-94d3-dff05e198957",
   "metadata": {},
   "outputs": [],
   "source": []
  },
  {
   "cell_type": "code",
   "execution_count": null,
   "id": "e384a371-7672-4d2a-8dd1-f998deadd8e4",
   "metadata": {},
   "outputs": [],
   "source": []
  },
  {
   "cell_type": "code",
   "execution_count": null,
   "id": "d8f7bafc-7d61-4220-be00-bb513a8e3c71",
   "metadata": {},
   "outputs": [],
   "source": []
  },
  {
   "cell_type": "code",
   "execution_count": null,
   "id": "73b1180c-4caa-428b-8b10-9b7cd8dc4fc8",
   "metadata": {},
   "outputs": [],
   "source": []
  },
  {
   "cell_type": "markdown",
   "id": "05dbe3ed-a72c-44fd-8280-97ad7232bfa3",
   "metadata": {},
   "source": [
    "### Adding National Parks To The Graph\n",
    "\n",
    "![](https://wherobots.com/wp-content/uploads/2024/03/Bird_Species_Graph.png)"
   ]
  },
  {
   "cell_type": "code",
   "execution_count": null,
   "id": "65bbefe7-8fe5-406a-952f-aeac851b85c9",
   "metadata": {},
   "outputs": [],
   "source": [
    "park_gdf = geopandas.GeoDataFrame(park_df.toPandas(), geometry=\"geometry\")"
   ]
  },
  {
   "cell_type": "code",
   "execution_count": null,
   "id": "5c3544d8-bdee-4188-bece-2a6355b07aee",
   "metadata": {},
   "outputs": [],
   "source": [
    "park_update_query = \"\"\"\n",
    "UNWIND $rows AS row\n",
    "MERGE (n:NationalPark {name: row.properties.park})\n",
    "SET n.centroid = Point({longitude: row.geometry.coordinates[0], latitude: row.geometry.coordinates[1]})\n",
    "WITH n, row\n",
    "UNWIND row.properties.species AS bird\n",
    "MATCH (s:Species {common_name: bird})\n",
    "MERGE (s)<-[:WITHIN_RANGE]-(n)\n",
    "RETURN COUNT(*) AS total\n",
    "\"\"\""
   ]
  },
  {
   "cell_type": "code",
   "execution_count": null,
   "id": "e6f281b0-68d6-47e4-9d52-ba7143748974",
   "metadata": {},
   "outputs": [],
   "source": [
    "with GraphDatabase.driver(URI, auth=AUTH) as driver:\n",
    "    driver.verify_connectivity()\n",
    "    with driver.session() as session:\n",
    "        session.execute_write(insert_data, park_update_query, park_gdf)"
   ]
  },
  {
   "cell_type": "code",
   "execution_count": null,
   "id": "5b95de3b-1d39-4fed-be29-5e62bffeccc7",
   "metadata": {},
   "outputs": [],
   "source": []
  }
 ],
 "metadata": {
  "kernelspec": {
   "display_name": "Python 3 (ipykernel)",
   "language": "python",
   "name": "python3"
  },
  "language_info": {
   "codemirror_mode": {
    "name": "ipython",
    "version": 3
   },
   "file_extension": ".py",
   "mimetype": "text/x-python",
   "name": "python",
   "nbconvert_exporter": "python",
   "pygments_lexer": "ipython3",
   "version": "3.10.11"
  }
 },
 "nbformat": 4,
 "nbformat_minor": 5
}
