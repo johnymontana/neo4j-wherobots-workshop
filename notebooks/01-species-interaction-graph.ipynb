{
 "cells": [
  {
   "cell_type": "markdown",
   "id": "e1bef71a-a935-4670-9cd9-db98088ad909",
   "metadata": {},
   "source": [
    "## Hands-On Workshop\n",
    "## Large-Scale Geospatial Analytics With Wherobots, Neo4j, & The PyData Ecosystem\n",
    "\n",
    "This workshop demonstrates how to use \n",
    "\n",
    "This notebook covers :\n",
    "\n",
    "* Calculating Bird Species Range\n",
    "* Building a graph of species interactions\n",
    "* "
   ]
  },
  {
   "cell_type": "code",
   "execution_count": 1,
   "id": "3a98012d-9388-4bcb-a955-86f7b94697fb",
   "metadata": {},
   "outputs": [
    {
     "name": "stdout",
     "output_type": "stream",
     "text": [
      "\u001b[33mWARNING: The directory '/home/jovyan/.cache/pip' or its parent directory is not owned or is not writable by the current user. The cache has been disabled. Check the permissions and owner of that directory. If executing pip with sudo, you should use sudo's -H flag.\u001b[0m\u001b[33m\n",
      "\u001b[0mCollecting neo4j\n",
      "  Downloading neo4j-5.18.0.tar.gz (198 kB)\n",
      "\u001b[2K     \u001b[90m━━━━━━━━━━━━━━━━━━━━━━━━━━━━━━━━━━━━━━━\u001b[0m \u001b[32m198.0/198.0 kB\u001b[0m \u001b[31m8.9 MB/s\u001b[0m eta \u001b[36m0:00:00\u001b[0m\n",
      "\u001b[?25h  Installing build dependencies ... \u001b[?25ldone\n",
      "\u001b[?25h  Getting requirements to build wheel ... \u001b[?25ldone\n",
      "\u001b[?25h  Installing backend dependencies ... \u001b[?25ldone\n",
      "\u001b[?25h  Preparing metadata (pyproject.toml) ... \u001b[?25ldone\n",
      "\u001b[?25hRequirement already satisfied: pytz in /opt/conda/lib/python3.10/site-packages (from neo4j) (2023.3)\n",
      "Building wheels for collected packages: neo4j\n",
      "  Building wheel for neo4j (pyproject.toml) ... \u001b[?25ldone\n",
      "\u001b[?25h  Created wheel for neo4j: filename=neo4j-5.18.0-py3-none-any.whl size=273863 sha256=a48a28f811e31b0e3a6b88c5ba819af7f1b1106e23d1498f1602b6fd5babd577\n",
      "  Stored in directory: /tmp/pip-ephem-wheel-cache-gz7_uizz/wheels/e7/e1/a0/dd7c19192f5383ff57d02a6c126cbfe4b7b2ae82f70c6994ce\n",
      "Successfully built neo4j\n",
      "Installing collected packages: neo4j\n",
      "Successfully installed neo4j-5.18.0\n",
      "\u001b[33mWARNING: Running pip as the 'root' user can result in broken permissions and conflicting behaviour with the system package manager. It is recommended to use a virtual environment instead: https://pip.pypa.io/warnings/venv\u001b[0m\u001b[33m\n",
      "\u001b[0m"
     ]
    }
   ],
   "source": [
    "!pip install neo4j"
   ]
  },
  {
   "cell_type": "code",
   "execution_count": 2,
   "id": "adf7a74e-8184-4ac3-b954-6aee7ebb8958",
   "metadata": {},
   "outputs": [],
   "source": [
    "from sedona.spark import *\n",
    "import geopandas\n",
    "import json"
   ]
  },
  {
   "cell_type": "markdown",
   "id": "11fc71f6-8394-4909-9231-13828906e9a7",
   "metadata": {},
   "source": [
    "## Configure SedonaContext"
   ]
  },
  {
   "cell_type": "code",
   "execution_count": 3,
   "id": "6da2060b-bb23-4918-9fdc-94b18b331245",
   "metadata": {},
   "outputs": [
    {
     "name": "stderr",
     "output_type": "stream",
     "text": [
      "Warning: Ignoring non-Spark config property: fs.s3a.aws.credentials.provider\n",
      "24/03/21 20:50:21 WARN NativeCodeLoader: Unable to load native-hadoop library for your platform... using builtin-java classes where applicable\n",
      "Setting default log level to \"WARN\".\n",
      "To adjust logging level use sc.setLogLevel(newLevel). For SparkR, use setLogLevel(newLevel).\n",
      "24/03/21 20:50:24 WARN MetricsConfig: Cannot locate configuration: tried hadoop-metrics2-s3a-file-system.properties,hadoop-metrics2.properties\n",
      "24/03/21 20:50:25 WARN S3ABlockOutputStream: Application invoked the Syncable API against stream writing to qjnq6fcbf1/spark-logs/spark-3d43856e14234e96b8c27aa78801c942.inprogress. This is unsupported\n",
      "24/03/21 20:50:48 WARN SedonaContext: Python files are not set. Sedona will not pre-load Python UDFs.\n"
     ]
    }
   ],
   "source": [
    "# Configure SedonaContext, specify credentials for AWS S3 bucket(s) (optional)\n",
    "\n",
    "config = SedonaContext.builder(). \\\n",
    "    config(\"spark.hadoop.fs.s3a.bucket.wherobots-examples.aws.credentials.provider\",\"org.apache.hadoop.fs.s3a.AnonymousAWSCredentialsProvider\"). \\\n",
    "    getOrCreate()\n",
    "\n",
    "sedona = SedonaContext.create(config)"
   ]
  },
  {
   "cell_type": "markdown",
   "id": "a8d817da-84da-4072-aa15-7421bddaab2e",
   "metadata": {},
   "source": [
    "## Calculating Bird Species Range\n",
    "\n",
    "We'll load a dataset of bird species observations, then calculate the range of each species using Spatial SQL.\n",
    "\n",
    "Our data comes from [Bird Buddy](https://live.mybirdbuddy.com/) which makes a smart bird feeder than can identify bird species and (optionally) report their location.\n",
    "\n",
    "![](https://wherobots.com/wp-content/uploads/2023/11/bird_buddy1.png)"
   ]
  },
  {
   "cell_type": "code",
   "execution_count": 4,
   "id": "d3bf846c-b75a-4da0-b7f1-712a17525eba",
   "metadata": {},
   "outputs": [
    {
     "name": "stderr",
     "output_type": "stream",
     "text": [
      "                                                                                \r"
     ]
    },
    {
     "name": "stdout",
     "output_type": "stream",
     "text": [
      "+---+-------------------+--------------------+-----------------------+--------------------+----------------------+\n",
      "|_c0|anonymized_latitude|anonymized_longitude|timestamp              |common_name         |scientific_name       |\n",
      "+---+-------------------+--------------------+-----------------------+--------------------+----------------------+\n",
      "|10 |34.393112          |-118.59075          |2023-10-01 00:00:02.415|california scrub jay|aphelocoma californica|\n",
      "|11 |34.393112          |-118.59075          |2023-10-01 00:00:02.415|california scrub jay|aphelocoma californica|\n",
      "|26 |34.393112          |-118.59075          |2023-10-01 00:00:04.544|california scrub jay|aphelocoma californica|\n",
      "|27 |34.393112          |-118.59075          |2023-10-01 00:00:04.544|california scrub jay|aphelocoma californica|\n",
      "|34 |34.393112          |-118.59075          |2023-10-01 00:00:05.474|california scrub jay|aphelocoma californica|\n",
      "+---+-------------------+--------------------+-----------------------+--------------------+----------------------+\n",
      "only showing top 5 rows\n",
      "\n"
     ]
    },
    {
     "name": "stderr",
     "output_type": "stream",
     "text": [
      "[Stage 5:>                                                          (0 + 1) / 1]\r"
     ]
    },
    {
     "name": "stdout",
     "output_type": "stream",
     "text": [
      "+---------------------------------------------+-----------------------+--------------------+----------------------+\n",
      "|location                                     |timestamp              |common_name         |scientific_name       |\n",
      "+---------------------------------------------+-----------------------+--------------------+----------------------+\n",
      "|POINT (-118.59075164794922 34.39311218261719)|2023-10-01 00:00:02.415|california scrub jay|aphelocoma californica|\n",
      "|POINT (-118.59075164794922 34.39311218261719)|2023-10-01 00:00:02.415|california scrub jay|aphelocoma californica|\n",
      "|POINT (-118.59075164794922 34.39311218261719)|2023-10-01 00:00:04.544|california scrub jay|aphelocoma californica|\n",
      "|POINT (-118.59075164794922 34.39311218261719)|2023-10-01 00:00:04.544|california scrub jay|aphelocoma californica|\n",
      "|POINT (-118.59075164794922 34.39311218261719)|2023-10-01 00:00:05.474|california scrub jay|aphelocoma californica|\n",
      "|POINT (-118.59075164794922 34.39311218261719)|2023-10-01 00:00:05.474|california scrub jay|aphelocoma californica|\n",
      "|POINT (-118.59075164794922 34.39311218261719)|2023-10-01 00:00:05.487|california scrub jay|aphelocoma californica|\n",
      "|POINT (-118.59075164794922 34.39311218261719)|2023-10-01 00:00:05.487|california scrub jay|aphelocoma californica|\n",
      "|POINT (-120.55419921875 43.804134368896484)  |2023-10-01 00:00:05.931|lesser goldfinch    |spinus psaltria       |\n",
      "|POINT (-120.55419921875 43.804134368896484)  |2023-10-01 00:00:05.931|lesser goldfinch    |spinus psaltria       |\n",
      "|POINT (-120.55419921875 43.804134368896484)  |2023-10-01 00:00:06.522|lesser goldfinch    |spinus psaltria       |\n",
      "|POINT (-120.55419921875 43.804134368896484)  |2023-10-01 00:00:06.522|lesser goldfinch    |spinus psaltria       |\n",
      "|POINT (-120.55419921875 43.804134368896484)  |2023-10-01 00:00:09.113|lesser goldfinch    |spinus psaltria       |\n",
      "|POINT (-120.55419921875 43.804134368896484)  |2023-10-01 00:00:09.113|lesser goldfinch    |spinus psaltria       |\n",
      "|POINT (-118.59075164794922 34.39311218261719)|2023-10-01 00:00:09.434|california scrub jay|aphelocoma californica|\n",
      "+---------------------------------------------+-----------------------+--------------------+----------------------+\n",
      "only showing top 15 rows\n",
      "\n"
     ]
    },
    {
     "name": "stderr",
     "output_type": "stream",
     "text": [
      "                                                                                \r"
     ]
    }
   ],
   "source": [
    "BB_S3_URL = \"s3://wherobots-examples/data/examples/birdbuddy_oct23.csv\"\n",
    "bb_df = sedona.read.format('csv').option('header','true').option('delimiter', ',').load(BB_S3_URL)\n",
    "bb_df.show(5, truncate=False)\n",
    "bb_df = bb_df.selectExpr('ST_Point(CAST(anonymized_longitude AS float), CAST(anonymized_latitude AS float)) AS location', 'CAST(timestamp AS timestamp) AS timestamp', 'common_name', 'scientific_name')\n",
    "bb_df.createOrReplaceTempView('bb')\n",
    "bb_df.show(15, truncate=False)"
   ]
  },
  {
   "cell_type": "code",
   "execution_count": 5,
   "id": "1953a93e-a119-4741-9ec2-cea8bf7954ee",
   "metadata": {},
   "outputs": [
    {
     "name": "stdout",
     "output_type": "stream",
     "text": [
      "root\n",
      " |-- location: geometry (nullable = true)\n",
      " |-- timestamp: timestamp (nullable = true)\n",
      " |-- common_name: string (nullable = true)\n",
      " |-- scientific_name: string (nullable = true)\n",
      "\n"
     ]
    }
   ],
   "source": [
    "bb_df.printSchema()\n"
   ]
  },
  {
   "cell_type": "code",
   "execution_count": 6,
   "id": "7cc436f3-002d-427e-8e2e-81688c1602b2",
   "metadata": {},
   "outputs": [
    {
     "name": "stderr",
     "output_type": "stream",
     "text": [
      "                                                                                \r"
     ]
    },
    {
     "data": {
      "text/plain": [
       "9502150"
      ]
     },
     "execution_count": 6,
     "metadata": {},
     "output_type": "execute_result"
    }
   ],
   "source": [
    "bb_df.count()\n"
   ]
  },
  {
   "cell_type": "code",
   "execution_count": 7,
   "id": "585c3709-10df-4f7f-93ef-3a1009f441a3",
   "metadata": {},
   "outputs": [
    {
     "name": "stderr",
     "output_type": "stream",
     "text": [
      "[Stage 9:====================================================>    (11 + 1) / 12]\r"
     ]
    },
    {
     "name": "stdout",
     "output_type": "stream",
     "text": [
      "+--------------------+------+--------------------+\n",
      "|         common_name|   num|            geometry|\n",
      "+--------------------+------+--------------------+\n",
      "|    eastern bluebird|250862|POLYGON ((-100.13...|\n",
      "|       steller’s jay| 78258|POLYGON ((-99.162...|\n",
      "|   california towhee| 48338|POLYGON ((-117.05...|\n",
      "|    acorn woodpecker|  9838|POLYGON ((-103.89...|\n",
      "|      cassin’s finch|  8860|POLYGON ((-103.89...|\n",
      "|  mountain chickadee|  6014|POLYGON ((-110.99...|\n",
      "|brown headed nuth...|  4048|POLYGON ((-80.345...|\n",
      "|      pygmy nuthatch|  2888|POLYGON ((-110.99...|\n",
      "|      gambel’s quail|  1578|POLYGON ((-110.99...|\n",
      "|   florida scrub jay|  1410|POLYGON ((-81.813...|\n",
      "|    california quail|   740|POLYGON ((-117.05...|\n",
      "|          pinyon jay|   222|POLYGON ((-116.87...|\n",
      "|  clark’s nutcracker|   134|POLYGON ((-110.21...|\n",
      "|      scott’s oriole|    64|POLYGON ((-99.140...|\n",
      "|gray crowned rosy...|    42|POLYGON ((-105.93...|\n",
      "|    boreal chickadee|    34|POLYGON ((-71.016...|\n",
      "|      lazuli bunting|    30|POLYGON ((-95.802...|\n",
      "|  townsend’s warbler|    24|POLYGON ((-97.691...|\n",
      "|  western meadowlark|    18|POLYGON ((-116.76...|\n",
      "|         wood thrush|    14|POLYGON ((-80.109...|\n",
      "| red naped sapsucker|    14|POLYGON ((-112.57...|\n",
      "|spot breasted oriole|    10|POLYGON ((-80.178...|\n",
      "| northern red bishop|    10|POLYGON ((-84.107...|\n",
      "|red cockaded wood...|    10|POLYGON ((-80.201...|\n",
      "|yellow headed bla...|     8|POLYGON ((-82.524...|\n",
      "+--------------------+------+--------------------+\n",
      "\n"
     ]
    },
    {
     "name": "stderr",
     "output_type": "stream",
     "text": [
      "                                                                                \r"
     ]
    }
   ],
   "source": [
    "range_df = sedona.sql(\"\"\"\n",
    "    SELECT common_name, COUNT(*) AS num, ST_ConvexHull(ST_Union_aggr(location)) AS geometry \n",
    "    FROM bb \n",
    "    WHERE common_name IN ('california towhee', 'steller’s jay', 'mountain chickadee', 'eastern bluebird', 'wood thrush', 'yellow headed blackbird', 'spot breasted oriole', \n",
    "      'red cockaded woodpecker', 'northern red bishop', 'red naped sapsucker', 'western meadowlark', 'lazuli bunting', 'clark’s nutcracker', 'gray crowned rosy finch', 'california quail',\n",
    "      'boreal chickadee', 'acorn woodpecker', 'townsend’s warbler', 'gambel’s quail', 'scott’s oriole', 'cassin’s finch', 'brown headed nuthatch', 'pygmy nuthatch', 'pinyon jay', 'florida scrub jay') \n",
    "    GROUP BY common_name \n",
    "    ORDER BY num DESC\n",
    "\"\"\")\n",
    "range_df.show(30)"
   ]
  },
  {
   "cell_type": "code",
   "execution_count": 8,
   "id": "a209c2d5-88f1-46c0-977f-ba57f4d8b2fa",
   "metadata": {},
   "outputs": [],
   "source": [
    "range_df.createOrReplaceTempView(\"ranges\")"
   ]
  },
  {
   "cell_type": "code",
   "execution_count": 9,
   "id": "d79acce0-3f41-4096-8f7d-ccfa5300cf88",
   "metadata": {},
   "outputs": [],
   "source": [
    "range_df = range_df.cache()"
   ]
  },
  {
   "cell_type": "code",
   "execution_count": 10,
   "id": "70a26794-89dd-4895-adb8-402d65ac09fd",
   "metadata": {},
   "outputs": [
    {
     "name": "stderr",
     "output_type": "stream",
     "text": [
      "                                                                                \r"
     ]
    },
    {
     "data": {
      "text/plain": [
       "25"
      ]
     },
     "execution_count": 10,
     "metadata": {},
     "output_type": "execute_result"
    }
   ],
   "source": [
    "range_df.count()"
   ]
  },
  {
   "cell_type": "code",
   "execution_count": 11,
   "id": "02b09c34-ccb5-4600-9e37-4dc1cf6b42da",
   "metadata": {},
   "outputs": [
    {
     "name": "stdout",
     "output_type": "stream",
     "text": [
      "User Guide: https://docs.kepler.gl/docs/keplergl-jupyter\n"
     ]
    },
    {
     "data": {
      "application/vnd.jupyter.widget-view+json": {
       "model_id": "8af0acfea78442c8814507729da39a5b",
       "version_major": 2,
       "version_minor": 0
      },
      "text/plain": [
       "KeplerGl(data={'Bird species range': {'index': [0, 1, 2, 3, 4, 5, 6, 7, 8, 9, 10, 11, 12, 13, 14, 15, 16, 17, …"
      ]
     },
     "metadata": {},
     "output_type": "display_data"
    }
   ],
   "source": [
    "SedonaKepler.create_map(df=range_df, name=\"Bird species range\")\n"
   ]
  },
  {
   "cell_type": "code",
   "execution_count": 12,
   "id": "0e4d8cf8-8657-4c27-b3a2-ff0620f1db5a",
   "metadata": {},
   "outputs": [],
   "source": [
    "## Determine which species interesct"
   ]
  },
  {
   "cell_type": "code",
   "execution_count": null,
   "id": "55ceb7db-fb69-4418-9da5-4d2757e298af",
   "metadata": {},
   "outputs": [],
   "source": []
  },
  {
   "cell_type": "code",
   "execution_count": 13,
   "id": "7ab5c3d6-8d6e-4a42-8406-6c44e14bf522",
   "metadata": {},
   "outputs": [],
   "source": [
    "intersect_df = sedona.sql(\"\"\"\n",
    "    WITH birds AS (SELECT * FROM ranges)\n",
    "    SELECT birds.common_name, ST_Centroid(any_value(birds.geometry)) AS centroid, collect_list(ranges.common_name) AS intersects\n",
    "    FROM ranges, birds\n",
    "    WHERE ST_Intersects(birds.geometry, ranges.geometry) AND NOT birds.common_name=ranges.common_name\n",
    "    GROUP BY birds.common_name\n",
    "\"\"\")"
   ]
  },
  {
   "cell_type": "code",
   "execution_count": 14,
   "id": "ce0be702-a4f2-440a-8b14-db953d478fff",
   "metadata": {},
   "outputs": [
    {
     "name": "stdout",
     "output_type": "stream",
     "text": [
      "+-----------------------+----------------------------------------------+---------------------------------------------------------------------------------------------------------------------------------------------------------------------------------------------------------------------------------------------------------------------------------------------------------------------------------------------------------------------------------------------------------------------------------------------------+\n",
      "|common_name            |centroid                                      |intersects                                                                                                                                                                                                                                                                                                                                                                                                                                         |\n",
      "+-----------------------+----------------------------------------------+---------------------------------------------------------------------------------------------------------------------------------------------------------------------------------------------------------------------------------------------------------------------------------------------------------------------------------------------------------------------------------------------------------------------------------------------------+\n",
      "|cassin’s finch         |POINT (-111.94207568729466 40.6194284871803)  |[northern red bishop, eastern bluebird, townsend’s warbler, gambel’s quail, scott’s oriole, california towhee, acorn woodpecker, pinyon jay, western meadowlark, steller’s jay, pygmy nuthatch, red naped sapsucker, california quail, lazuli bunting, boreal chickadee, clark’s nutcracker, mountain chickadee, gray crowned rosy finch]                                                                                                          |\n",
      "|brown headed nuthatch  |POINT (-85.27483342901265 32.947869228813325) |[spot breasted oriole, florida scrub jay, wood thrush, red cockaded woodpecker, yellow headed blackbird, northern red bishop, eastern bluebird, lazuli bunting]                                                                                                                                                                                                                                                                                    |\n",
      "|scott’s oriole         |POINT (-111.64429207240688 35.41526936112094) |[northern red bishop, eastern bluebird, townsend’s warbler, gambel’s quail, california towhee, acorn woodpecker, pinyon jay, western meadowlark, steller’s jay, pygmy nuthatch, cassin’s finch, red naped sapsucker, california quail, lazuli bunting, clark’s nutcracker, mountain chickadee, gray crowned rosy finch]                                                                                                                            |\n",
      "|lazuli bunting         |POINT (-109.27049756210677 37.995414702351084)|[brown headed nuthatch, yellow headed blackbird, northern red bishop, eastern bluebird, townsend’s warbler, gambel’s quail, scott’s oriole, california towhee, acorn woodpecker, pinyon jay, western meadowlark, steller’s jay, pygmy nuthatch, cassin’s finch, red naped sapsucker, california quail, clark’s nutcracker, mountain chickadee, gray crowned rosy finch]                                                                            |\n",
      "|wood thrush            |POINT (-84.07241540869666 30.818414728382223) |[spot breasted oriole, florida scrub jay, red cockaded woodpecker, brown headed nuthatch, yellow headed blackbird, northern red bishop, eastern bluebird]                                                                                                                                                                                                                                                                                          |\n",
      "|red naped sapsucker    |POINT (-113.4621340647243 41.28187687277665)  |[northern red bishop, eastern bluebird, townsend’s warbler, gambel’s quail, scott’s oriole, acorn woodpecker, pinyon jay, western meadowlark, steller’s jay, pygmy nuthatch, cassin’s finch, california quail, lazuli bunting, clark’s nutcracker, mountain chickadee, gray crowned rosy finch]                                                                                                                                                    |\n",
      "|spot breasted oriole   |POINT (-81.01123786327516 27.232993640968015) |[florida scrub jay, wood thrush, red cockaded woodpecker, brown headed nuthatch, yellow headed blackbird, eastern bluebird]                                                                                                                                                                                                                                                                                                                        |\n",
      "|northern red bishop    |POINT (-108.64958486692525 34.12946904402463) |[wood thrush, brown headed nuthatch, yellow headed blackbird, eastern bluebird, townsend’s warbler, gambel’s quail, scott’s oriole, california towhee, acorn woodpecker, pinyon jay, western meadowlark, steller’s jay, pygmy nuthatch, cassin’s finch, red naped sapsucker, california quail, lazuli bunting, clark’s nutcracker, mountain chickadee]                                                                                             |\n",
      "|red cockaded woodpecker|POINT (-80.81552124023438 30.11618105570475)  |[spot breasted oriole, florida scrub jay, wood thrush, brown headed nuthatch, yellow headed blackbird, eastern bluebird]                                                                                                                                                                                                                                                                                                                           |\n",
      "|steller’s jay          |POINT (-121.39289651191304 44.28043436598875) |[northern red bishop, eastern bluebird, townsend’s warbler, gambel’s quail, scott’s oriole, california towhee, acorn woodpecker, pinyon jay, western meadowlark, pygmy nuthatch, cassin’s finch, red naped sapsucker, california quail, lazuli bunting, boreal chickadee, clark’s nutcracker, mountain chickadee, gray crowned rosy finch]                                                                                                         |\n",
      "|eastern bluebird       |POINT (-90.60836877149946 37.419912077794784) |[spot breasted oriole, florida scrub jay, wood thrush, red cockaded woodpecker, brown headed nuthatch, yellow headed blackbird, northern red bishop, townsend’s warbler, gambel’s quail, scott’s oriole, acorn woodpecker, pinyon jay, western meadowlark, steller’s jay, pygmy nuthatch, cassin’s finch, red naped sapsucker, california quail, lazuli bunting, boreal chickadee, clark’s nutcracker, mountain chickadee, gray crowned rosy finch]|\n",
      "|california towhee      |POINT (-120.64935316199094 37.879362457693674)|[northern red bishop, townsend’s warbler, scott’s oriole, acorn woodpecker, pinyon jay, western meadowlark, steller’s jay, pygmy nuthatch, cassin’s finch, california quail, lazuli bunting, clark’s nutcracker, mountain chickadee, gray crowned rosy finch]                                                                                                                                                                                      |\n",
      "|acorn woodpecker       |POINT (-113.99624840000232 37.43942115922741) |[northern red bishop, eastern bluebird, townsend’s warbler, gambel’s quail, scott’s oriole, california towhee, pinyon jay, western meadowlark, steller’s jay, pygmy nuthatch, cassin’s finch, red naped sapsucker, california quail, lazuli bunting, clark’s nutcracker, mountain chickadee, gray crowned rosy finch]                                                                                                                              |\n",
      "|pygmy nuthatch         |POINT (-114.49800366148628 39.985975574369235)|[northern red bishop, eastern bluebird, townsend’s warbler, gambel’s quail, scott’s oriole, california towhee, acorn woodpecker, pinyon jay, western meadowlark, steller’s jay, cassin’s finch, red naped sapsucker, california quail, lazuli bunting, clark’s nutcracker, mountain chickadee, gray crowned rosy finch]                                                                                                                            |\n",
      "|gambel’s quail         |POINT (-109.866079415684 35.07902792134529)   |[northern red bishop, eastern bluebird, townsend’s warbler, scott’s oriole, acorn woodpecker, pinyon jay, western meadowlark, steller’s jay, pygmy nuthatch, cassin’s finch, red naped sapsucker, california quail, lazuli bunting, clark’s nutcracker, mountain chickadee, gray crowned rosy finch]                                                                                                                                               |\n",
      "|california quail       |POINT (-117.897569847243 40.93774886652555)   |[northern red bishop, eastern bluebird, townsend’s warbler, gambel’s quail, scott’s oriole, california towhee, acorn woodpecker, pinyon jay, western meadowlark, steller’s jay, pygmy nuthatch, cassin’s finch, red naped sapsucker, lazuli bunting, clark’s nutcracker, mountain chickadee, gray crowned rosy finch]                                                                                                                              |\n",
      "|florida scrub jay      |POINT (-81.5945413302808 28.187166113706933)  |[spot breasted oriole, wood thrush, red cockaded woodpecker, brown headed nuthatch, yellow headed blackbird, eastern bluebird]                                                                                                                                                                                                                                                                                                                     |\n",
      "|clark’s nutcracker     |POINT (-113.93689284686228 41.217283827993015)|[northern red bishop, eastern bluebird, townsend’s warbler, gambel’s quail, scott’s oriole, california towhee, acorn woodpecker, pinyon jay, western meadowlark, steller’s jay, pygmy nuthatch, cassin’s finch, red naped sapsucker, california quail, lazuli bunting, mountain chickadee, gray crowned rosy finch]                                                                                                                                |\n",
      "|mountain chickadee     |POINT (-114.27540606133755 42.43332614778049) |[northern red bishop, eastern bluebird, townsend’s warbler, gambel’s quail, scott’s oriole, california towhee, acorn woodpecker, pinyon jay, western meadowlark, steller’s jay, pygmy nuthatch, cassin’s finch, red naped sapsucker, california quail, lazuli bunting, boreal chickadee, clark’s nutcracker, gray crowned rosy finch]                                                                                                              |\n",
      "|pinyon jay             |POINT (-112.87985623170054 39.101453095555954)|[northern red bishop, eastern bluebird, townsend’s warbler, gambel’s quail, scott’s oriole, california towhee, acorn woodpecker, western meadowlark, steller’s jay, pygmy nuthatch, cassin’s finch, red naped sapsucker, california quail, lazuli bunting, clark’s nutcracker, mountain chickadee, gray crowned rosy finch]                                                                                                                        |\n",
      "+-----------------------+----------------------------------------------+---------------------------------------------------------------------------------------------------------------------------------------------------------------------------------------------------------------------------------------------------------------------------------------------------------------------------------------------------------------------------------------------------------------------------------------------------+\n",
      "only showing top 20 rows\n",
      "\n"
     ]
    }
   ],
   "source": [
    "intersect_df.show(truncate=False)"
   ]
  },
  {
   "cell_type": "code",
   "execution_count": 15,
   "id": "891d0917-1169-422f-a69c-db68b857e0dc",
   "metadata": {},
   "outputs": [],
   "source": [
    "intersect_df.createOrReplaceTempView(\"intersects\")"
   ]
  },
  {
   "cell_type": "code",
   "execution_count": 16,
   "id": "0dc3ee68-51cc-4495-aced-b58c29800479",
   "metadata": {},
   "outputs": [],
   "source": [
    "birds_gdf = geopandas.GeoDataFrame(intersect_df.toPandas(), geometry=\"centroid\")"
   ]
  },
  {
   "cell_type": "code",
   "execution_count": 17,
   "id": "cfbcd3ff-6f7d-43b9-b6fc-ec30ad7315fe",
   "metadata": {},
   "outputs": [
    {
     "data": {
      "text/plain": [
       "'{\"type\": \"FeatureCollection\", \"features\": [{\"id\": \"0\", \"type\": \"Feature\", \"properties\": {\"common_name\": \"steller\\\\u2019s jay\", \"intersects\": [\"northern red bishop\", \"eastern bluebird\", \"townsend\\\\u2019s warbler\", \"gambel\\\\u2019s quail\", \"scott\\\\u2019s oriole\", \"california towhee\", \"acorn woodpecker\", \"pinyon jay\", \"western meadowlark\", \"pygmy nuthatch\", \"cassin\\\\u2019s finch\", \"red naped sapsucker\", \"california quail\", \"lazuli bunting\", \"boreal chickadee\", \"clark\\\\u2019s nutcracker\", \"mountain chickadee\", \"gray crowned rosy finch\"]}, \"geometry\": {\"type\": \"Point\", \"coordinates\": [-121.39289651191304, 44.28043436598875]}}, {\"id\": \"1\", \"type\": \"Feature\", \"properties\": {\"common_name\": \"mountain chickadee\", \"intersects\": [\"northern red bishop\", \"eastern bluebird\", \"townsend\\\\u2019s warbler\", \"gambel\\\\u2019s quail\", \"scott\\\\u2019s oriole\", \"california towhee\", \"acorn woodpecker\", \"pinyon jay\", \"western meadowlark\", \"steller\\\\u2019s jay\", \"pygmy nuthatch\", \"cassin\\\\u2019s finch\", \"red naped sapsucker\", \"california quail\", \"lazuli bunting\", \"boreal chickadee\", \"clark\\\\u2019s nutcracker\", \"gray crowned rosy finch\"]}, \"geometry\": {\"type\": \"Point\", \"coordinates\": [-114.27540606133755, 42.43332614778049]}}, {\"id\": \"2\", \"type\": \"Feature\", \"properties\": {\"common_name\": \"pinyon jay\", \"intersects\": [\"northern red bishop\", \"eastern bluebird\", \"townsend\\\\u2019s warbler\", \"gambel\\\\u2019s quail\", \"scott\\\\u2019s oriole\", \"california towhee\", \"acorn woodpecker\", \"western meadowlark\", \"steller\\\\u2019s jay\", \"pygmy nuthatch\", \"cassin\\\\u2019s finch\", \"red naped sapsucker\", \"california quail\", \"lazuli bunting\", \"clark\\\\u2019s nutcracker\", \"mountain chickadee\", \"gray crowned rosy finch\"]}, \"geometry\": {\"type\": \"Point\", \"coordinates\": [-112.87985623170054, 39.101453095555954]}}, {\"id\": \"3\", \"type\": \"Feature\", \"properties\": {\"common_name\": \"boreal chickadee\", \"intersects\": [\"eastern bluebird\", \"steller\\\\u2019s jay\", \"cassin\\\\u2019s finch\", \"mountain chickadee\", \"gray crowned rosy finch\"]}, \"geometry\": {\"type\": \"Point\", \"coordinates\": [-106.86475681360481, 52.75258840574392]}}, {\"id\": \"4\", \"type\": \"Feature\", \"properties\": {\"common_name\": \"townsend\\\\u2019s warbler\", \"intersects\": [\"northern red bishop\", \"eastern bluebird\", \"gambel\\\\u2019s quail\", \"scott\\\\u2019s oriole\", \"california towhee\", \"acorn woodpecker\", \"pinyon jay\", \"western meadowlark\", \"steller\\\\u2019s jay\", \"pygmy nuthatch\", \"cassin\\\\u2019s finch\", \"red naped sapsucker\", \"california quail\", \"lazuli bunting\", \"clark\\\\u2019s nutcracker\", \"mountain chickadee\", \"gray crowned rosy finch\"]}, \"geometry\": {\"type\": \"Point\", \"coordinates\": [-114.24486162204569, 35.44966587062119]}}, {\"id\": \"5\", \"type\": \"Feature\", \"properties\": {\"common_name\": \"western meadowlark\", \"intersects\": [\"yellow headed blackbird\", \"northern red bishop\", \"eastern bluebird\", \"townsend\\\\u2019s warbler\", \"gambel\\\\u2019s quail\", \"scott\\\\u2019s oriole\", \"california towhee\", \"acorn woodpecker\", \"pinyon jay\", \"steller\\\\u2019s jay\", \"pygmy nuthatch\", \"cassin\\\\u2019s finch\", \"red naped sapsucker\", \"california quail\", \"lazuli bunting\", \"clark\\\\u2019s nutcracker\", \"mountain chickadee\", \"gray crowned rosy finch\"]}, \"geometry\": {\"type\": \"Point\", \"coordinates\": [-113.32701671563487, 39.55160228008272]}}, {\"id\": \"6\", \"type\": \"Feature\", \"properties\": {\"common_name\": \"yellow headed blackbird\", \"intersects\": [\"spot breasted oriole\", \"florida scrub jay\", \"wood thrush\", \"red cockaded woodpecker\", \"brown headed nuthatch\", \"northern red bishop\", \"eastern bluebird\", \"western meadowlark\", \"lazuli bunting\"]}, \"geometry\": {\"type\": \"Point\", \"coordinates\": [-85.21185811360677, 35.24340375264485]}}, {\"id\": \"7\", \"type\": \"Feature\", \"properties\": {\"common_name\": \"california towhee\", \"intersects\": [\"northern red bishop\", \"townsend\\\\u2019s warbler\", \"scott\\\\u2019s oriole\", \"acorn woodpecker\", \"pinyon jay\", \"western meadowlark\", \"steller\\\\u2019s jay\", \"pygmy nuthatch\", \"cassin\\\\u2019s finch\", \"california quail\", \"lazuli bunting\", \"clark\\\\u2019s nutcracker\", \"mountain chickadee\", \"gray crowned rosy finch\"]}, \"geometry\": {\"type\": \"Point\", \"coordinates\": [-120.64935316199094, 37.879362457693674]}}, {\"id\": \"8\", \"type\": \"Feature\", \"properties\": {\"common_name\": \"pygmy nuthatch\", \"intersects\": [\"northern red bishop\", \"eastern bluebird\", \"townsend\\\\u2019s warbler\", \"gambel\\\\u2019s quail\", \"scott\\\\u2019s oriole\", \"california towhee\", \"acorn woodpecker\", \"pinyon jay\", \"western meadowlark\", \"steller\\\\u2019s jay\", \"cassin\\\\u2019s finch\", \"red naped sapsucker\", \"california quail\", \"lazuli bunting\", \"clark\\\\u2019s nutcracker\", \"mountain chickadee\", \"gray crowned rosy finch\"]}, \"geometry\": {\"type\": \"Point\", \"coordinates\": [-114.49800366148628, 39.985975574369235]}}, {\"id\": \"9\", \"type\": \"Feature\", \"properties\": {\"common_name\": \"cassin\\\\u2019s finch\", \"intersects\": [\"northern red bishop\", \"eastern bluebird\", \"townsend\\\\u2019s warbler\", \"gambel\\\\u2019s quail\", \"scott\\\\u2019s oriole\", \"california towhee\", \"acorn woodpecker\", \"pinyon jay\", \"western meadowlark\", \"steller\\\\u2019s jay\", \"pygmy nuthatch\", \"red naped sapsucker\", \"california quail\", \"lazuli bunting\", \"boreal chickadee\", \"clark\\\\u2019s nutcracker\", \"mountain chickadee\", \"gray crowned rosy finch\"]}, \"geometry\": {\"type\": \"Point\", \"coordinates\": [-111.94207568729466, 40.6194284871803]}}, {\"id\": \"10\", \"type\": \"Feature\", \"properties\": {\"common_name\": \"brown headed nuthatch\", \"intersects\": [\"spot breasted oriole\", \"florida scrub jay\", \"wood thrush\", \"red cockaded woodpecker\", \"yellow headed blackbird\", \"northern red bishop\", \"eastern bluebird\", \"lazuli bunting\"]}, \"geometry\": {\"type\": \"Point\", \"coordinates\": [-85.27483342901265, 32.947869228813325]}}, {\"id\": \"11\", \"type\": \"Feature\", \"properties\": {\"common_name\": \"scott\\\\u2019s oriole\", \"intersects\": [\"northern red bishop\", \"eastern bluebird\", \"townsend\\\\u2019s warbler\", \"gambel\\\\u2019s quail\", \"california towhee\", \"acorn woodpecker\", \"pinyon jay\", \"western meadowlark\", \"steller\\\\u2019s jay\", \"pygmy nuthatch\", \"cassin\\\\u2019s finch\", \"red naped sapsucker\", \"california quail\", \"lazuli bunting\", \"clark\\\\u2019s nutcracker\", \"mountain chickadee\", \"gray crowned rosy finch\"]}, \"geometry\": {\"type\": \"Point\", \"coordinates\": [-111.64429207240688, 35.41526936112094]}}, {\"id\": \"12\", \"type\": \"Feature\", \"properties\": {\"common_name\": \"lazuli bunting\", \"intersects\": [\"brown headed nuthatch\", \"yellow headed blackbird\", \"northern red bishop\", \"eastern bluebird\", \"townsend\\\\u2019s warbler\", \"gambel\\\\u2019s quail\", \"scott\\\\u2019s oriole\", \"california towhee\", \"acorn woodpecker\", \"pinyon jay\", \"western meadowlark\", \"steller\\\\u2019s jay\", \"pygmy nuthatch\", \"cassin\\\\u2019s finch\", \"red naped sapsucker\", \"california quail\", \"clark\\\\u2019s nutcracker\", \"mountain chickadee\", \"gray crowned rosy finch\"]}, \"geometry\": {\"type\": \"Point\", \"coordinates\": [-109.27049756210677, 37.995414702351084]}}, {\"id\": \"13\", \"type\": \"Feature\", \"properties\": {\"common_name\": \"wood thrush\", \"intersects\": [\"spot breasted oriole\", \"florida scrub jay\", \"red cockaded woodpecker\", \"brown headed nuthatch\", \"yellow headed blackbird\", \"northern red bishop\", \"eastern bluebird\"]}, \"geometry\": {\"type\": \"Point\", \"coordinates\": [-84.07241540869666, 30.818414728382223]}}, {\"id\": \"14\", \"type\": \"Feature\", \"properties\": {\"common_name\": \"red naped sapsucker\", \"intersects\": [\"northern red bishop\", \"eastern bluebird\", \"townsend\\\\u2019s warbler\", \"gambel\\\\u2019s quail\", \"scott\\\\u2019s oriole\", \"acorn woodpecker\", \"pinyon jay\", \"western meadowlark\", \"steller\\\\u2019s jay\", \"pygmy nuthatch\", \"cassin\\\\u2019s finch\", \"california quail\", \"lazuli bunting\", \"clark\\\\u2019s nutcracker\", \"mountain chickadee\", \"gray crowned rosy finch\"]}, \"geometry\": {\"type\": \"Point\", \"coordinates\": [-113.4621340647243, 41.28187687277665]}}, {\"id\": \"15\", \"type\": \"Feature\", \"properties\": {\"common_name\": \"spot breasted oriole\", \"intersects\": [\"florida scrub jay\", \"wood thrush\", \"red cockaded woodpecker\", \"brown headed nuthatch\", \"yellow headed blackbird\", \"eastern bluebird\"]}, \"geometry\": {\"type\": \"Point\", \"coordinates\": [-81.01123786327516, 27.232993640968015]}}, {\"id\": \"16\", \"type\": \"Feature\", \"properties\": {\"common_name\": \"northern red bishop\", \"intersects\": [\"wood thrush\", \"brown headed nuthatch\", \"yellow headed blackbird\", \"eastern bluebird\", \"townsend\\\\u2019s warbler\", \"gambel\\\\u2019s quail\", \"scott\\\\u2019s oriole\", \"california towhee\", \"acorn woodpecker\", \"pinyon jay\", \"western meadowlark\", \"steller\\\\u2019s jay\", \"pygmy nuthatch\", \"cassin\\\\u2019s finch\", \"red naped sapsucker\", \"california quail\", \"lazuli bunting\", \"clark\\\\u2019s nutcracker\", \"mountain chickadee\"]}, \"geometry\": {\"type\": \"Point\", \"coordinates\": [-108.64958486692525, 34.12946904402463]}}, {\"id\": \"17\", \"type\": \"Feature\", \"properties\": {\"common_name\": \"red cockaded woodpecker\", \"intersects\": [\"spot breasted oriole\", \"florida scrub jay\", \"wood thrush\", \"brown headed nuthatch\", \"yellow headed blackbird\", \"eastern bluebird\"]}, \"geometry\": {\"type\": \"Point\", \"coordinates\": [-80.81552124023438, 30.11618105570475]}}, {\"id\": \"18\", \"type\": \"Feature\", \"properties\": {\"common_name\": \"eastern bluebird\", \"intersects\": [\"spot breasted oriole\", \"florida scrub jay\", \"wood thrush\", \"red cockaded woodpecker\", \"brown headed nuthatch\", \"yellow headed blackbird\", \"northern red bishop\", \"townsend\\\\u2019s warbler\", \"gambel\\\\u2019s quail\", \"scott\\\\u2019s oriole\", \"acorn woodpecker\", \"pinyon jay\", \"western meadowlark\", \"steller\\\\u2019s jay\", \"pygmy nuthatch\", \"cassin\\\\u2019s finch\", \"red naped sapsucker\", \"california quail\", \"lazuli bunting\", \"boreal chickadee\", \"clark\\\\u2019s nutcracker\", \"mountain chickadee\", \"gray crowned rosy finch\"]}, \"geometry\": {\"type\": \"Point\", \"coordinates\": [-90.60836877149946, 37.419912077794784]}}, {\"id\": \"19\", \"type\": \"Feature\", \"properties\": {\"common_name\": \"acorn woodpecker\", \"intersects\": [\"northern red bishop\", \"eastern bluebird\", \"townsend\\\\u2019s warbler\", \"gambel\\\\u2019s quail\", \"scott\\\\u2019s oriole\", \"california towhee\", \"pinyon jay\", \"western meadowlark\", \"steller\\\\u2019s jay\", \"pygmy nuthatch\", \"cassin\\\\u2019s finch\", \"red naped sapsucker\", \"california quail\", \"lazuli bunting\", \"clark\\\\u2019s nutcracker\", \"mountain chickadee\", \"gray crowned rosy finch\"]}, \"geometry\": {\"type\": \"Point\", \"coordinates\": [-113.99624840000232, 37.43942115922741]}}, {\"id\": \"20\", \"type\": \"Feature\", \"properties\": {\"common_name\": \"gambel\\\\u2019s quail\", \"intersects\": [\"northern red bishop\", \"eastern bluebird\", \"townsend\\\\u2019s warbler\", \"scott\\\\u2019s oriole\", \"acorn woodpecker\", \"pinyon jay\", \"western meadowlark\", \"steller\\\\u2019s jay\", \"pygmy nuthatch\", \"cassin\\\\u2019s finch\", \"red naped sapsucker\", \"california quail\", \"lazuli bunting\", \"clark\\\\u2019s nutcracker\", \"mountain chickadee\", \"gray crowned rosy finch\"]}, \"geometry\": {\"type\": \"Point\", \"coordinates\": [-109.866079415684, 35.07902792134529]}}, {\"id\": \"21\", \"type\": \"Feature\", \"properties\": {\"common_name\": \"california quail\", \"intersects\": [\"northern red bishop\", \"eastern bluebird\", \"townsend\\\\u2019s warbler\", \"gambel\\\\u2019s quail\", \"scott\\\\u2019s oriole\", \"california towhee\", \"acorn woodpecker\", \"pinyon jay\", \"western meadowlark\", \"steller\\\\u2019s jay\", \"pygmy nuthatch\", \"cassin\\\\u2019s finch\", \"red naped sapsucker\", \"lazuli bunting\", \"clark\\\\u2019s nutcracker\", \"mountain chickadee\", \"gray crowned rosy finch\"]}, \"geometry\": {\"type\": \"Point\", \"coordinates\": [-117.897569847243, 40.93774886652555]}}, {\"id\": \"22\", \"type\": \"Feature\", \"properties\": {\"common_name\": \"clark\\\\u2019s nutcracker\", \"intersects\": [\"northern red bishop\", \"eastern bluebird\", \"townsend\\\\u2019s warbler\", \"gambel\\\\u2019s quail\", \"scott\\\\u2019s oriole\", \"california towhee\", \"acorn woodpecker\", \"pinyon jay\", \"western meadowlark\", \"steller\\\\u2019s jay\", \"pygmy nuthatch\", \"cassin\\\\u2019s finch\", \"red naped sapsucker\", \"california quail\", \"lazuli bunting\", \"mountain chickadee\", \"gray crowned rosy finch\"]}, \"geometry\": {\"type\": \"Point\", \"coordinates\": [-113.93689284686228, 41.217283827993015]}}, {\"id\": \"23\", \"type\": \"Feature\", \"properties\": {\"common_name\": \"gray crowned rosy finch\", \"intersects\": [\"eastern bluebird\", \"townsend\\\\u2019s warbler\", \"gambel\\\\u2019s quail\", \"scott\\\\u2019s oriole\", \"california towhee\", \"acorn woodpecker\", \"pinyon jay\", \"western meadowlark\", \"steller\\\\u2019s jay\", \"pygmy nuthatch\", \"cassin\\\\u2019s finch\", \"red naped sapsucker\", \"california quail\", \"lazuli bunting\", \"boreal chickadee\", \"clark\\\\u2019s nutcracker\", \"mountain chickadee\"]}, \"geometry\": {\"type\": \"Point\", \"coordinates\": [-123.04542082539687, 49.567691140357326]}}, {\"id\": \"24\", \"type\": \"Feature\", \"properties\": {\"common_name\": \"florida scrub jay\", \"intersects\": [\"spot breasted oriole\", \"wood thrush\", \"red cockaded woodpecker\", \"brown headed nuthatch\", \"yellow headed blackbird\", \"eastern bluebird\"]}, \"geometry\": {\"type\": \"Point\", \"coordinates\": [-81.5945413302808, 28.187166113706933]}}]}'"
      ]
     },
     "execution_count": 17,
     "metadata": {},
     "output_type": "execute_result"
    }
   ],
   "source": [
    "birds_gdf.to_json()"
   ]
  },
  {
   "cell_type": "markdown",
   "id": "be0c7d87-651c-493d-915a-0f7a4fb1e9df",
   "metadata": {},
   "source": [
    "## Build A Graph Of Bird Species Interactions\n",
    "\n",
    "Next, we'll load into Neo4j our bird species data, creating a graph of bird species that have overlapping range. This will allow us to answer questions related to ecology, disease transmission, and conservation.\n",
    "\n",
    "### Define The Graph Model\n",
    "\n",
    "The first step when building a graph is always to define the graph data model. A great tool to sketch out our graph data model is [Arrows.app](https://arrows.app). In this case our data model will be fairly simple:\n",
    "\n",
    "![](https://wherobots.com/wp-content/uploads/2024/03/bird_species_range.png)"
   ]
  },
  {
   "cell_type": "code",
   "execution_count": 18,
   "id": "dc0bb979-de22-44e1-bb8e-0f56ad9eb4bb",
   "metadata": {},
   "outputs": [],
   "source": [
    "## Load into Neo4j"
   ]
  },
  {
   "cell_type": "code",
   "execution_count": 19,
   "id": "fae691a3-bda2-4221-b184-edf4ddb8a99b",
   "metadata": {},
   "outputs": [],
   "source": [
    "from neo4j import GraphDatabase"
   ]
  },
  {
   "cell_type": "code",
   "execution_count": 20,
   "id": "c2ec2372-2dea-42b6-9c86-9250e331223f",
   "metadata": {},
   "outputs": [],
   "source": [
    "URI = \"neo4j+s://<YOUR_NEO4J_URI_HERE>.neo4j.io\"\n",
    "AUTH = (\"neo4j\", \"YOUR_PASSWORD_HERE\")"
   ]
  },
  {
   "cell_type": "code",
   "execution_count": 21,
   "id": "8a44e808-0e14-4b6a-a0a2-f74083aab120",
   "metadata": {},
   "outputs": [],
   "source": [
    "neo4j_query = \"\"\"\n",
    "UNWIND $rows AS row\n",
    "MERGE (s:Species {common_name: row.properties.common_name})\n",
    "SET s.centroid = Point({longitude: row.geometry.coordinates[0], latitude: row.geometry.coordinates[1]})\n",
    "WITH s, row\n",
    "UNWIND row.properties.intersects AS bird\n",
    "MERGE (b:Species {common_name: bird})\n",
    "MERGE (s)-[:RANGE_OVERLAP]-(b)\n",
    "RETURN COUNT(*) AS total\n",
    "\"\"\""
   ]
  },
  {
   "cell_type": "code",
   "execution_count": null,
   "id": "0df85f1b-e277-4894-a72f-15b410e6f85b",
   "metadata": {},
   "outputs": [],
   "source": []
  },
  {
   "cell_type": "code",
   "execution_count": null,
   "id": "f17b7d6f-896d-4663-8c1c-a7818137311a",
   "metadata": {},
   "outputs": [],
   "source": []
  },
  {
   "cell_type": "code",
   "execution_count": null,
   "id": "f793c5b1-2784-4e4a-9388-20f5af75e577",
   "metadata": {},
   "outputs": [],
   "source": []
  },
  {
   "cell_type": "code",
   "execution_count": 22,
   "id": "b29e214d-cdd8-4317-8c61-6c2b8abb379c",
   "metadata": {},
   "outputs": [],
   "source": [
    "def insert_data(tx, query, rows, batch_size=1000):\n",
    "    total = 0\n",
    "    batch = 0\n",
    "    while batch * batch_size < len(rows):\n",
    "        print(batch)\n",
    "        print(batch_size)\n",
    "        results = tx.run(query, parameters = {\n",
    "            'rows': json.loads(rows[batch * batch_size : (batch + 1) * batch_size].to_json())['features']\n",
    "        }).data()\n",
    "        print(results)\n",
    "        total += results[0]['total']\n",
    "        batch += 1\n",
    "    "
   ]
  },
  {
   "cell_type": "code",
   "execution_count": 23,
   "id": "75bb5f0c-3c0d-4f68-a6f6-6d2656201494",
   "metadata": {},
   "outputs": [
    {
     "name": "stdout",
     "output_type": "stream",
     "text": [
      "0\n",
      "1000\n",
      "[{'total': 362}]\n"
     ]
    }
   ],
   "source": [
    "with GraphDatabase.driver(URI, auth=AUTH) as driver:\n",
    "    driver.verify_connectivity()\n",
    "    with driver.session() as session:\n",
    "        session.execute_write(insert_data, neo4j_query, birds_gdf)"
   ]
  },
  {
   "cell_type": "code",
   "execution_count": 24,
   "id": "f46eeecd-9b20-4294-81ee-95816edd3490",
   "metadata": {},
   "outputs": [
    {
     "data": {
      "text/plain": [
       "[{'id': '0',\n",
       "  'type': 'Feature',\n",
       "  'properties': {'common_name': 'steller’s jay',\n",
       "   'intersects': ['northern red bishop',\n",
       "    'eastern bluebird',\n",
       "    'townsend’s warbler',\n",
       "    'gambel’s quail',\n",
       "    'scott’s oriole',\n",
       "    'california towhee',\n",
       "    'acorn woodpecker',\n",
       "    'pinyon jay',\n",
       "    'western meadowlark',\n",
       "    'pygmy nuthatch',\n",
       "    'cassin’s finch',\n",
       "    'red naped sapsucker',\n",
       "    'california quail',\n",
       "    'lazuli bunting',\n",
       "    'boreal chickadee',\n",
       "    'clark’s nutcracker',\n",
       "    'mountain chickadee',\n",
       "    'gray crowned rosy finch']},\n",
       "  'geometry': {'type': 'Point',\n",
       "   'coordinates': [-121.39289651191304, 44.28043436598875]}},\n",
       " {'id': '1',\n",
       "  'type': 'Feature',\n",
       "  'properties': {'common_name': 'mountain chickadee',\n",
       "   'intersects': ['northern red bishop',\n",
       "    'eastern bluebird',\n",
       "    'townsend’s warbler',\n",
       "    'gambel’s quail',\n",
       "    'scott’s oriole',\n",
       "    'california towhee',\n",
       "    'acorn woodpecker',\n",
       "    'pinyon jay',\n",
       "    'western meadowlark',\n",
       "    'steller’s jay',\n",
       "    'pygmy nuthatch',\n",
       "    'cassin’s finch',\n",
       "    'red naped sapsucker',\n",
       "    'california quail',\n",
       "    'lazuli bunting',\n",
       "    'boreal chickadee',\n",
       "    'clark’s nutcracker',\n",
       "    'gray crowned rosy finch']},\n",
       "  'geometry': {'type': 'Point',\n",
       "   'coordinates': [-114.27540606133755, 42.43332614778049]}},\n",
       " {'id': '2',\n",
       "  'type': 'Feature',\n",
       "  'properties': {'common_name': 'pinyon jay',\n",
       "   'intersects': ['northern red bishop',\n",
       "    'eastern bluebird',\n",
       "    'townsend’s warbler',\n",
       "    'gambel’s quail',\n",
       "    'scott’s oriole',\n",
       "    'california towhee',\n",
       "    'acorn woodpecker',\n",
       "    'western meadowlark',\n",
       "    'steller’s jay',\n",
       "    'pygmy nuthatch',\n",
       "    'cassin’s finch',\n",
       "    'red naped sapsucker',\n",
       "    'california quail',\n",
       "    'lazuli bunting',\n",
       "    'clark’s nutcracker',\n",
       "    'mountain chickadee',\n",
       "    'gray crowned rosy finch']},\n",
       "  'geometry': {'type': 'Point',\n",
       "   'coordinates': [-112.87985623170054, 39.101453095555954]}},\n",
       " {'id': '3',\n",
       "  'type': 'Feature',\n",
       "  'properties': {'common_name': 'boreal chickadee',\n",
       "   'intersects': ['eastern bluebird',\n",
       "    'steller’s jay',\n",
       "    'cassin’s finch',\n",
       "    'mountain chickadee',\n",
       "    'gray crowned rosy finch']},\n",
       "  'geometry': {'type': 'Point',\n",
       "   'coordinates': [-106.86475681360481, 52.75258840574392]}},\n",
       " {'id': '4',\n",
       "  'type': 'Feature',\n",
       "  'properties': {'common_name': 'townsend’s warbler',\n",
       "   'intersects': ['northern red bishop',\n",
       "    'eastern bluebird',\n",
       "    'gambel’s quail',\n",
       "    'scott’s oriole',\n",
       "    'california towhee',\n",
       "    'acorn woodpecker',\n",
       "    'pinyon jay',\n",
       "    'western meadowlark',\n",
       "    'steller’s jay',\n",
       "    'pygmy nuthatch',\n",
       "    'cassin’s finch',\n",
       "    'red naped sapsucker',\n",
       "    'california quail',\n",
       "    'lazuli bunting',\n",
       "    'clark’s nutcracker',\n",
       "    'mountain chickadee',\n",
       "    'gray crowned rosy finch']},\n",
       "  'geometry': {'type': 'Point',\n",
       "   'coordinates': [-114.24486162204569, 35.44966587062119]}},\n",
       " {'id': '5',\n",
       "  'type': 'Feature',\n",
       "  'properties': {'common_name': 'western meadowlark',\n",
       "   'intersects': ['yellow headed blackbird',\n",
       "    'northern red bishop',\n",
       "    'eastern bluebird',\n",
       "    'townsend’s warbler',\n",
       "    'gambel’s quail',\n",
       "    'scott’s oriole',\n",
       "    'california towhee',\n",
       "    'acorn woodpecker',\n",
       "    'pinyon jay',\n",
       "    'steller’s jay',\n",
       "    'pygmy nuthatch',\n",
       "    'cassin’s finch',\n",
       "    'red naped sapsucker',\n",
       "    'california quail',\n",
       "    'lazuli bunting',\n",
       "    'clark’s nutcracker',\n",
       "    'mountain chickadee',\n",
       "    'gray crowned rosy finch']},\n",
       "  'geometry': {'type': 'Point',\n",
       "   'coordinates': [-113.32701671563487, 39.55160228008272]}},\n",
       " {'id': '6',\n",
       "  'type': 'Feature',\n",
       "  'properties': {'common_name': 'yellow headed blackbird',\n",
       "   'intersects': ['spot breasted oriole',\n",
       "    'florida scrub jay',\n",
       "    'wood thrush',\n",
       "    'red cockaded woodpecker',\n",
       "    'brown headed nuthatch',\n",
       "    'northern red bishop',\n",
       "    'eastern bluebird',\n",
       "    'western meadowlark',\n",
       "    'lazuli bunting']},\n",
       "  'geometry': {'type': 'Point',\n",
       "   'coordinates': [-85.21185811360677, 35.24340375264485]}},\n",
       " {'id': '7',\n",
       "  'type': 'Feature',\n",
       "  'properties': {'common_name': 'california towhee',\n",
       "   'intersects': ['northern red bishop',\n",
       "    'townsend’s warbler',\n",
       "    'scott’s oriole',\n",
       "    'acorn woodpecker',\n",
       "    'pinyon jay',\n",
       "    'western meadowlark',\n",
       "    'steller’s jay',\n",
       "    'pygmy nuthatch',\n",
       "    'cassin’s finch',\n",
       "    'california quail',\n",
       "    'lazuli bunting',\n",
       "    'clark’s nutcracker',\n",
       "    'mountain chickadee',\n",
       "    'gray crowned rosy finch']},\n",
       "  'geometry': {'type': 'Point',\n",
       "   'coordinates': [-120.64935316199094, 37.879362457693674]}},\n",
       " {'id': '8',\n",
       "  'type': 'Feature',\n",
       "  'properties': {'common_name': 'pygmy nuthatch',\n",
       "   'intersects': ['northern red bishop',\n",
       "    'eastern bluebird',\n",
       "    'townsend’s warbler',\n",
       "    'gambel’s quail',\n",
       "    'scott’s oriole',\n",
       "    'california towhee',\n",
       "    'acorn woodpecker',\n",
       "    'pinyon jay',\n",
       "    'western meadowlark',\n",
       "    'steller’s jay',\n",
       "    'cassin’s finch',\n",
       "    'red naped sapsucker',\n",
       "    'california quail',\n",
       "    'lazuli bunting',\n",
       "    'clark’s nutcracker',\n",
       "    'mountain chickadee',\n",
       "    'gray crowned rosy finch']},\n",
       "  'geometry': {'type': 'Point',\n",
       "   'coordinates': [-114.49800366148628, 39.985975574369235]}},\n",
       " {'id': '9',\n",
       "  'type': 'Feature',\n",
       "  'properties': {'common_name': 'cassin’s finch',\n",
       "   'intersects': ['northern red bishop',\n",
       "    'eastern bluebird',\n",
       "    'townsend’s warbler',\n",
       "    'gambel’s quail',\n",
       "    'scott’s oriole',\n",
       "    'california towhee',\n",
       "    'acorn woodpecker',\n",
       "    'pinyon jay',\n",
       "    'western meadowlark',\n",
       "    'steller’s jay',\n",
       "    'pygmy nuthatch',\n",
       "    'red naped sapsucker',\n",
       "    'california quail',\n",
       "    'lazuli bunting',\n",
       "    'boreal chickadee',\n",
       "    'clark’s nutcracker',\n",
       "    'mountain chickadee',\n",
       "    'gray crowned rosy finch']},\n",
       "  'geometry': {'type': 'Point',\n",
       "   'coordinates': [-111.94207568729466, 40.6194284871803]}},\n",
       " {'id': '10',\n",
       "  'type': 'Feature',\n",
       "  'properties': {'common_name': 'brown headed nuthatch',\n",
       "   'intersects': ['spot breasted oriole',\n",
       "    'florida scrub jay',\n",
       "    'wood thrush',\n",
       "    'red cockaded woodpecker',\n",
       "    'yellow headed blackbird',\n",
       "    'northern red bishop',\n",
       "    'eastern bluebird',\n",
       "    'lazuli bunting']},\n",
       "  'geometry': {'type': 'Point',\n",
       "   'coordinates': [-85.27483342901265, 32.947869228813325]}},\n",
       " {'id': '11',\n",
       "  'type': 'Feature',\n",
       "  'properties': {'common_name': 'scott’s oriole',\n",
       "   'intersects': ['northern red bishop',\n",
       "    'eastern bluebird',\n",
       "    'townsend’s warbler',\n",
       "    'gambel’s quail',\n",
       "    'california towhee',\n",
       "    'acorn woodpecker',\n",
       "    'pinyon jay',\n",
       "    'western meadowlark',\n",
       "    'steller’s jay',\n",
       "    'pygmy nuthatch',\n",
       "    'cassin’s finch',\n",
       "    'red naped sapsucker',\n",
       "    'california quail',\n",
       "    'lazuli bunting',\n",
       "    'clark’s nutcracker',\n",
       "    'mountain chickadee',\n",
       "    'gray crowned rosy finch']},\n",
       "  'geometry': {'type': 'Point',\n",
       "   'coordinates': [-111.64429207240688, 35.41526936112094]}},\n",
       " {'id': '12',\n",
       "  'type': 'Feature',\n",
       "  'properties': {'common_name': 'lazuli bunting',\n",
       "   'intersects': ['brown headed nuthatch',\n",
       "    'yellow headed blackbird',\n",
       "    'northern red bishop',\n",
       "    'eastern bluebird',\n",
       "    'townsend’s warbler',\n",
       "    'gambel’s quail',\n",
       "    'scott’s oriole',\n",
       "    'california towhee',\n",
       "    'acorn woodpecker',\n",
       "    'pinyon jay',\n",
       "    'western meadowlark',\n",
       "    'steller’s jay',\n",
       "    'pygmy nuthatch',\n",
       "    'cassin’s finch',\n",
       "    'red naped sapsucker',\n",
       "    'california quail',\n",
       "    'clark’s nutcracker',\n",
       "    'mountain chickadee',\n",
       "    'gray crowned rosy finch']},\n",
       "  'geometry': {'type': 'Point',\n",
       "   'coordinates': [-109.27049756210677, 37.995414702351084]}},\n",
       " {'id': '13',\n",
       "  'type': 'Feature',\n",
       "  'properties': {'common_name': 'wood thrush',\n",
       "   'intersects': ['spot breasted oriole',\n",
       "    'florida scrub jay',\n",
       "    'red cockaded woodpecker',\n",
       "    'brown headed nuthatch',\n",
       "    'yellow headed blackbird',\n",
       "    'northern red bishop',\n",
       "    'eastern bluebird']},\n",
       "  'geometry': {'type': 'Point',\n",
       "   'coordinates': [-84.07241540869666, 30.818414728382223]}},\n",
       " {'id': '14',\n",
       "  'type': 'Feature',\n",
       "  'properties': {'common_name': 'red naped sapsucker',\n",
       "   'intersects': ['northern red bishop',\n",
       "    'eastern bluebird',\n",
       "    'townsend’s warbler',\n",
       "    'gambel’s quail',\n",
       "    'scott’s oriole',\n",
       "    'acorn woodpecker',\n",
       "    'pinyon jay',\n",
       "    'western meadowlark',\n",
       "    'steller’s jay',\n",
       "    'pygmy nuthatch',\n",
       "    'cassin’s finch',\n",
       "    'california quail',\n",
       "    'lazuli bunting',\n",
       "    'clark’s nutcracker',\n",
       "    'mountain chickadee',\n",
       "    'gray crowned rosy finch']},\n",
       "  'geometry': {'type': 'Point',\n",
       "   'coordinates': [-113.4621340647243, 41.28187687277665]}},\n",
       " {'id': '15',\n",
       "  'type': 'Feature',\n",
       "  'properties': {'common_name': 'spot breasted oriole',\n",
       "   'intersects': ['florida scrub jay',\n",
       "    'wood thrush',\n",
       "    'red cockaded woodpecker',\n",
       "    'brown headed nuthatch',\n",
       "    'yellow headed blackbird',\n",
       "    'eastern bluebird']},\n",
       "  'geometry': {'type': 'Point',\n",
       "   'coordinates': [-81.01123786327516, 27.232993640968015]}},\n",
       " {'id': '16',\n",
       "  'type': 'Feature',\n",
       "  'properties': {'common_name': 'northern red bishop',\n",
       "   'intersects': ['wood thrush',\n",
       "    'brown headed nuthatch',\n",
       "    'yellow headed blackbird',\n",
       "    'eastern bluebird',\n",
       "    'townsend’s warbler',\n",
       "    'gambel’s quail',\n",
       "    'scott’s oriole',\n",
       "    'california towhee',\n",
       "    'acorn woodpecker',\n",
       "    'pinyon jay',\n",
       "    'western meadowlark',\n",
       "    'steller’s jay',\n",
       "    'pygmy nuthatch',\n",
       "    'cassin’s finch',\n",
       "    'red naped sapsucker',\n",
       "    'california quail',\n",
       "    'lazuli bunting',\n",
       "    'clark’s nutcracker',\n",
       "    'mountain chickadee']},\n",
       "  'geometry': {'type': 'Point',\n",
       "   'coordinates': [-108.64958486692525, 34.12946904402463]}},\n",
       " {'id': '17',\n",
       "  'type': 'Feature',\n",
       "  'properties': {'common_name': 'red cockaded woodpecker',\n",
       "   'intersects': ['spot breasted oriole',\n",
       "    'florida scrub jay',\n",
       "    'wood thrush',\n",
       "    'brown headed nuthatch',\n",
       "    'yellow headed blackbird',\n",
       "    'eastern bluebird']},\n",
       "  'geometry': {'type': 'Point',\n",
       "   'coordinates': [-80.81552124023438, 30.11618105570475]}},\n",
       " {'id': '18',\n",
       "  'type': 'Feature',\n",
       "  'properties': {'common_name': 'eastern bluebird',\n",
       "   'intersects': ['spot breasted oriole',\n",
       "    'florida scrub jay',\n",
       "    'wood thrush',\n",
       "    'red cockaded woodpecker',\n",
       "    'brown headed nuthatch',\n",
       "    'yellow headed blackbird',\n",
       "    'northern red bishop',\n",
       "    'townsend’s warbler',\n",
       "    'gambel’s quail',\n",
       "    'scott’s oriole',\n",
       "    'acorn woodpecker',\n",
       "    'pinyon jay',\n",
       "    'western meadowlark',\n",
       "    'steller’s jay',\n",
       "    'pygmy nuthatch',\n",
       "    'cassin’s finch',\n",
       "    'red naped sapsucker',\n",
       "    'california quail',\n",
       "    'lazuli bunting',\n",
       "    'boreal chickadee',\n",
       "    'clark’s nutcracker',\n",
       "    'mountain chickadee',\n",
       "    'gray crowned rosy finch']},\n",
       "  'geometry': {'type': 'Point',\n",
       "   'coordinates': [-90.60836877149946, 37.419912077794784]}},\n",
       " {'id': '19',\n",
       "  'type': 'Feature',\n",
       "  'properties': {'common_name': 'acorn woodpecker',\n",
       "   'intersects': ['northern red bishop',\n",
       "    'eastern bluebird',\n",
       "    'townsend’s warbler',\n",
       "    'gambel’s quail',\n",
       "    'scott’s oriole',\n",
       "    'california towhee',\n",
       "    'pinyon jay',\n",
       "    'western meadowlark',\n",
       "    'steller’s jay',\n",
       "    'pygmy nuthatch',\n",
       "    'cassin’s finch',\n",
       "    'red naped sapsucker',\n",
       "    'california quail',\n",
       "    'lazuli bunting',\n",
       "    'clark’s nutcracker',\n",
       "    'mountain chickadee',\n",
       "    'gray crowned rosy finch']},\n",
       "  'geometry': {'type': 'Point',\n",
       "   'coordinates': [-113.99624840000232, 37.43942115922741]}},\n",
       " {'id': '20',\n",
       "  'type': 'Feature',\n",
       "  'properties': {'common_name': 'gambel’s quail',\n",
       "   'intersects': ['northern red bishop',\n",
       "    'eastern bluebird',\n",
       "    'townsend’s warbler',\n",
       "    'scott’s oriole',\n",
       "    'acorn woodpecker',\n",
       "    'pinyon jay',\n",
       "    'western meadowlark',\n",
       "    'steller’s jay',\n",
       "    'pygmy nuthatch',\n",
       "    'cassin’s finch',\n",
       "    'red naped sapsucker',\n",
       "    'california quail',\n",
       "    'lazuli bunting',\n",
       "    'clark’s nutcracker',\n",
       "    'mountain chickadee',\n",
       "    'gray crowned rosy finch']},\n",
       "  'geometry': {'type': 'Point',\n",
       "   'coordinates': [-109.866079415684, 35.07902792134529]}},\n",
       " {'id': '21',\n",
       "  'type': 'Feature',\n",
       "  'properties': {'common_name': 'california quail',\n",
       "   'intersects': ['northern red bishop',\n",
       "    'eastern bluebird',\n",
       "    'townsend’s warbler',\n",
       "    'gambel’s quail',\n",
       "    'scott’s oriole',\n",
       "    'california towhee',\n",
       "    'acorn woodpecker',\n",
       "    'pinyon jay',\n",
       "    'western meadowlark',\n",
       "    'steller’s jay',\n",
       "    'pygmy nuthatch',\n",
       "    'cassin’s finch',\n",
       "    'red naped sapsucker',\n",
       "    'lazuli bunting',\n",
       "    'clark’s nutcracker',\n",
       "    'mountain chickadee',\n",
       "    'gray crowned rosy finch']},\n",
       "  'geometry': {'type': 'Point',\n",
       "   'coordinates': [-117.897569847243, 40.93774886652555]}},\n",
       " {'id': '22',\n",
       "  'type': 'Feature',\n",
       "  'properties': {'common_name': 'clark’s nutcracker',\n",
       "   'intersects': ['northern red bishop',\n",
       "    'eastern bluebird',\n",
       "    'townsend’s warbler',\n",
       "    'gambel’s quail',\n",
       "    'scott’s oriole',\n",
       "    'california towhee',\n",
       "    'acorn woodpecker',\n",
       "    'pinyon jay',\n",
       "    'western meadowlark',\n",
       "    'steller’s jay',\n",
       "    'pygmy nuthatch',\n",
       "    'cassin’s finch',\n",
       "    'red naped sapsucker',\n",
       "    'california quail',\n",
       "    'lazuli bunting',\n",
       "    'mountain chickadee',\n",
       "    'gray crowned rosy finch']},\n",
       "  'geometry': {'type': 'Point',\n",
       "   'coordinates': [-113.93689284686228, 41.217283827993015]}},\n",
       " {'id': '23',\n",
       "  'type': 'Feature',\n",
       "  'properties': {'common_name': 'gray crowned rosy finch',\n",
       "   'intersects': ['eastern bluebird',\n",
       "    'townsend’s warbler',\n",
       "    'gambel’s quail',\n",
       "    'scott’s oriole',\n",
       "    'california towhee',\n",
       "    'acorn woodpecker',\n",
       "    'pinyon jay',\n",
       "    'western meadowlark',\n",
       "    'steller’s jay',\n",
       "    'pygmy nuthatch',\n",
       "    'cassin’s finch',\n",
       "    'red naped sapsucker',\n",
       "    'california quail',\n",
       "    'lazuli bunting',\n",
       "    'boreal chickadee',\n",
       "    'clark’s nutcracker',\n",
       "    'mountain chickadee']},\n",
       "  'geometry': {'type': 'Point',\n",
       "   'coordinates': [-123.04542082539687, 49.567691140357326]}},\n",
       " {'id': '24',\n",
       "  'type': 'Feature',\n",
       "  'properties': {'common_name': 'florida scrub jay',\n",
       "   'intersects': ['spot breasted oriole',\n",
       "    'wood thrush',\n",
       "    'red cockaded woodpecker',\n",
       "    'brown headed nuthatch',\n",
       "    'yellow headed blackbird',\n",
       "    'eastern bluebird']},\n",
       "  'geometry': {'type': 'Point',\n",
       "   'coordinates': [-81.5945413302808, 28.187166113706933]}}]"
      ]
     },
     "execution_count": 24,
     "metadata": {},
     "output_type": "execute_result"
    }
   ],
   "source": [
    "json.loads(birds_gdf[0:1000].to_json())['features']"
   ]
  },
  {
   "cell_type": "code",
   "execution_count": null,
   "id": "4d9e2e23-a9b1-4013-8ab9-01056de1ad94",
   "metadata": {},
   "outputs": [],
   "source": []
  },
  {
   "cell_type": "markdown",
   "id": "96724ac9-2eb0-4fcd-a485-bec7588f9a83",
   "metadata": {},
   "source": [
    "## Raster Examples\n",
    "\n",
    "### Night Time Visible Light\n",
    "\n",
    "- [ ] calculate average visible light per range\n",
    "- [ ] calculate change in average visible light per range"
   ]
  },
  {
   "cell_type": "code",
   "execution_count": null,
   "id": "67aabc9c-3fd4-4a3a-9492-83951a53b8c7",
   "metadata": {},
   "outputs": [],
   "source": []
  },
  {
   "cell_type": "markdown",
   "id": "dc2aef3e-f1e8-454c-a4a4-253a0fdf33fd",
   "metadata": {},
   "source": [
    "## Precipitation"
   ]
  },
  {
   "cell_type": "code",
   "execution_count": 43,
   "id": "7267e16f-1a4d-4b8b-bbd7-d524fc6f1421",
   "metadata": {},
   "outputs": [],
   "source": [
    "PREC_URL = \"s3://wherobots-examples/data/examples/world_clim/wc2.1_10m_prec\" #/wc2.1_10m_prec_01.tif\n",
    "rawDf = sedona.read.format(\"binaryFile\").load(PREC_URL + \"/*.tif\")\n",
    "rawDf.createOrReplaceTempView(\"rawdf\")"
   ]
  },
  {
   "cell_type": "code",
   "execution_count": 44,
   "id": "4e3077a9-7bc8-4eeb-b2fc-cb0798dc54e5",
   "metadata": {},
   "outputs": [
    {
     "name": "stdout",
     "output_type": "stream",
     "text": [
      "root\n",
      " |-- raster: raster (nullable = true)\n",
      " |-- month: integer (nullable = true)\n",
      "\n"
     ]
    }
   ],
   "source": [
    "rasterDf = sedona.sql(\"\"\"\n",
    "SELECT \n",
    "  RS_FromGeoTiff(content) AS raster, \n",
    "  Int(regexp_extract(path, '(.*)([0-9]{2}).tif', 2)) AS month\n",
    "FROM rawdf\n",
    "\"\"\")\n",
    "\n",
    "rasterDf.createOrReplaceTempView(\"prec\")\n",
    "rasterDf.printSchema()"
   ]
  },
  {
   "cell_type": "code",
   "execution_count": 45,
   "id": "e1ef00b8-523f-40ec-a41f-06e677e6f9f9",
   "metadata": {},
   "outputs": [
    {
     "name": "stderr",
     "output_type": "stream",
     "text": [
      "[Stage 66:==============================================>         (10 + 2) / 12]\r"
     ]
    },
    {
     "name": "stdout",
     "output_type": "stream",
     "text": [
      "+------------------+--------------------+--------------------+\n",
      "|   yearly_avg_prec| any_value(geometry)|         common_name|\n",
      "+------------------+--------------------+--------------------+\n",
      "|1361.4046647230323|POLYGON ((-80.109...|         wood thrush|\n",
      "|  1310.49101796407|POLYGON ((-80.345...|brown headed nuth...|\n",
      "|1279.8888888888891|POLYGON ((-80.178...|spot breasted oriole|\n",
      "|1278.6771653543308|POLYGON ((-81.813...|   florida scrub jay|\n",
      "|1263.5545851528384|POLYGON ((-80.201...|red cockaded wood...|\n",
      "|1251.8688969258599|POLYGON ((-82.524...|yellow headed bla...|\n",
      "| 882.7875723792295|POLYGON ((-105.93...|gray crowned rosy...|\n",
      "|  820.565896667247|POLYGON ((-100.13...|    eastern bluebird|\n",
      "|  708.073190789473|POLYGON ((-117.05...|   california towhee|\n",
      "| 696.5074055856118|POLYGON ((-99.162...|       steller’s jay|\n",
      "| 575.8028245518764|POLYGON ((-71.016...|    boreal chickadee|\n",
      "| 568.8380872483158|POLYGON ((-117.05...|    california quail|\n",
      "| 512.3707884239993|POLYGON ((-110.99...|  mountain chickadee|\n",
      "|490.91796554553116|POLYGON ((-84.107...| northern red bishop|\n",
      "|463.90924131411424|POLYGON ((-95.802...|      lazuli bunting|\n",
      "| 425.5430828147445|POLYGON ((-110.21...|  clark’s nutcracker|\n",
      "| 415.6378279438713|POLYGON ((-110.99...|      pygmy nuthatch|\n",
      "| 399.4572514249486|POLYGON ((-116.76...|  western meadowlark|\n",
      "| 394.8234705025489|POLYGON ((-103.89...|      cassin’s finch|\n",
      "|391.73229484502997|POLYGON ((-103.89...|    acorn woodpecker|\n",
      "+------------------+--------------------+--------------------+\n",
      "only showing top 20 rows\n",
      "\n"
     ]
    },
    {
     "name": "stderr",
     "output_type": "stream",
     "text": [
      "                                                                                \r"
     ]
    }
   ],
   "source": [
    "world_prec_df = sedona.sql(\"\"\"\n",
    "SELECT \n",
    "  sum(RS_ZonalStats(prec.raster, ranges.geometry, 1, 'avg', true)) AS yearly_avg_prec,  \n",
    "  any_value(ranges.geometry), \n",
    "  ranges.common_name\n",
    "FROM prec, ranges\n",
    "GROUP BY common_name\n",
    "ORDER BY yearly_avg_prec DESC\n",
    "\"\"\")\n",
    "world_prec_df.dropna().show()"
   ]
  },
  {
   "cell_type": "code",
   "execution_count": 46,
   "id": "2fa31aff-396e-4ca6-a2ea-b0f9554a53d1",
   "metadata": {},
   "outputs": [],
   "source": [
    "# TODO: visualization by species\n",
    "# TODO: load into Neo4j"
   ]
  },
  {
   "cell_type": "markdown",
   "id": "134eacb4-5dcb-4fb8-b067-20c8ddbafc4b",
   "metadata": {},
   "source": [
    "## Overture Example"
   ]
  },
  {
   "cell_type": "code",
   "execution_count": 47,
   "id": "dee9645d-8097-4f3f-8be5-485448d2dc5d",
   "metadata": {},
   "outputs": [],
   "source": [
    "# find national parks within each species range"
   ]
  },
  {
   "cell_type": "code",
   "execution_count": 48,
   "id": "7aaf7394-25ae-4b3e-8dd7-66a04e097538",
   "metadata": {},
   "outputs": [
    {
     "name": "stdout",
     "output_type": "stream",
     "text": [
      "root\n",
      " |-- id: string (nullable = true)\n",
      " |-- geometry: geometry (nullable = true)\n",
      " |-- bbox: struct (nullable = true)\n",
      " |    |-- minx: double (nullable = true)\n",
      " |    |-- maxx: double (nullable = true)\n",
      " |    |-- miny: double (nullable = true)\n",
      " |    |-- maxy: double (nullable = true)\n",
      " |-- subType: string (nullable = true)\n",
      " |-- names: struct (nullable = true)\n",
      " |    |-- primary: string (nullable = true)\n",
      " |    |-- common: map (nullable = true)\n",
      " |    |    |-- key: string\n",
      " |    |    |-- value: string (valueContainsNull = true)\n",
      " |    |-- rules: array (nullable = true)\n",
      " |    |    |-- element: struct (containsNull = true)\n",
      " |    |    |    |-- variant: string (nullable = true)\n",
      " |    |    |    |-- language: string (nullable = true)\n",
      " |    |    |    |-- value: string (nullable = true)\n",
      " |    |    |    |-- at: array (nullable = true)\n",
      " |    |    |    |    |-- element: double (containsNull = true)\n",
      " |    |    |    |-- side: string (nullable = true)\n",
      " |-- wikidata: string (nullable = true)\n",
      " |-- version: integer (nullable = true)\n",
      " |-- updateTime: string (nullable = true)\n",
      " |-- sources: array (nullable = true)\n",
      " |    |-- element: struct (containsNull = true)\n",
      " |    |    |-- property: string (nullable = true)\n",
      " |    |    |-- dataset: string (nullable = true)\n",
      " |    |    |-- recordId: string (nullable = true)\n",
      " |    |    |-- confidence: double (nullable = true)\n",
      " |-- class: string (nullable = true)\n",
      " |-- sourceTags: map (nullable = true)\n",
      " |    |-- key: string\n",
      " |    |-- value: string (valueContainsNull = true)\n",
      " |-- surface: string (nullable = true)\n",
      "\n"
     ]
    }
   ],
   "source": [
    "sedona.table('wherobots_open_data.overture_2024_02_15.base_landUse').printSchema()"
   ]
  },
  {
   "cell_type": "code",
   "execution_count": 49,
   "id": "39beb777-2655-46a9-8b36-83621b278277",
   "metadata": {},
   "outputs": [],
   "source": [
    "park_df = sedona.sql(\"\"\"\n",
    "SELECT names.primary AS park, collect_list(common_name) AS species, any_value(wherobots_open_data.overture_2024_02_15.base_landUse.geometry) AS geometry\n",
    "--SELECT distinct(class)\n",
    "FROM wherobots_open_data.overture_2024_02_15.base_landUse, ranges\n",
    "WHERE ST_Intersects(ranges.geometry, wherobots_open_data.overture_2024_02_15.base_landUse.geometry) \n",
    "AND wherobots_open_data.overture_2024_02_15.base_landUse.class = \"nationalPark\"\n",
    "GROUP BY park\n",
    "\"\"\")"
   ]
  },
  {
   "cell_type": "code",
   "execution_count": 50,
   "id": "32d79856-54e4-4d21-94d6-d3455797e7cd",
   "metadata": {},
   "outputs": [
    {
     "name": "stderr",
     "output_type": "stream",
     "text": [
      "SLF4J: Failed to load class \"org.slf4j.impl.StaticLoggerBinder\".\n",
      "SLF4J: Defaulting to no-operation (NOP) logger implementation\n",
      "SLF4J: See http://www.slf4j.org/codes.html#StaticLoggerBinder for further details.\n",
      "[Stage 72:======================================================> (95 + 2) / 97]\r"
     ]
    },
    {
     "name": "stdout",
     "output_type": "stream",
     "text": [
      "+--------------------+--------------------+--------------------+\n",
      "|                park|             species|            geometry|\n",
      "+--------------------+--------------------+--------------------+\n",
      "|Alonsa Wildlife M...|  [boreal chickadee]|MULTIPOLYGON (((-...|\n",
      "|Alta Lake State Park|[steller’s jay, p...|MULTIPOLYGON (((-...|\n",
      "|Arches National Park|[eastern bluebird...|MULTIPOLYGON (((-...|\n",
      "|Arrow Lakes Provi...|[steller’s jay, c...|MULTIPOLYGON (((-...|\n",
      "|Auburn State Recr...|[townsend’s warbl...|POLYGON ((-120.80...|\n",
      "|Babine Mountains ...|[steller’s jay, g...|MULTIPOLYGON (((-...|\n",
      "|Babine Mountains ...|[steller’s jay, g...|MULTIPOLYGON (((-...|\n",
      "|Beaumont Provinci...|[steller’s jay, g...|MULTIPOLYGON (((-...|\n",
      "|Benjamin Franklin...|  [eastern bluebird]|POLYGON ((-75.174...|\n",
      "|Bligh Island Prov...|[steller’s jay, g...|MULTIPOLYGON (((-...|\n",
      "|  Bluff Lake Reserve|[northern red bis...|POLYGON ((-116.96...|\n",
      "|Bogachiel State Park|[steller’s jay, m...|MULTIPOLYGON (((-...|\n",
      "|Bronte Creek Prov...|  [eastern bluebird]|MULTIPOLYGON (((-...|\n",
      "|Broughton Archipe...|[steller’s jay, g...|MULTIPOLYGON (((-...|\n",
      "|Brule Lake Public...|[steller’s jay, b...|POLYGON ((-117.82...|\n",
      "|Buccaneer Bay Pro...|[steller’s jay, m...|POLYGON ((-123.98...|\n",
      "| Byron Wildlife Area|[western meadowla...|MULTIPOLYGON (((-...|\n",
      "|Calder Togo Provi...|[boreal chickadee...|POLYGON ((-101.71...|\n",
      "|Canal Road Wildli...|[western meadowla...|MULTIPOLYGON (((-...|\n",
      "|Carvers Creek Sta...|[wood thrush, bro...|MULTIPOLYGON (((-...|\n",
      "+--------------------+--------------------+--------------------+\n",
      "only showing top 20 rows\n",
      "\n"
     ]
    },
    {
     "name": "stderr",
     "output_type": "stream",
     "text": [
      "                                                                                \r"
     ]
    }
   ],
   "source": [
    "park_df.show()"
   ]
  },
  {
   "cell_type": "code",
   "execution_count": 51,
   "id": "35bc589e-5efa-4e32-bc15-3779845e9595",
   "metadata": {},
   "outputs": [
    {
     "name": "stderr",
     "output_type": "stream",
     "text": [
      "                                                                                \r"
     ]
    },
    {
     "data": {
      "text/plain": [
       "2227"
      ]
     },
     "execution_count": 51,
     "metadata": {},
     "output_type": "execute_result"
    }
   ],
   "source": [
    "park_df.count()"
   ]
  },
  {
   "cell_type": "code",
   "execution_count": 52,
   "id": "073f4ebb-74ae-4af5-9d94-c915c22e470e",
   "metadata": {},
   "outputs": [
    {
     "name": "stdout",
     "output_type": "stream",
     "text": [
      "User Guide: https://docs.kepler.gl/docs/keplergl-jupyter\n"
     ]
    },
    {
     "name": "stderr",
     "output_type": "stream",
     "text": [
      "                                                                                \r"
     ]
    },
    {
     "data": {
      "application/vnd.jupyter.widget-view+json": {
       "model_id": "59f080a057b040a5b319604b739ef7f8",
       "version_major": 2,
       "version_minor": 0
      },
      "text/plain": [
       "KeplerGl(data={'Parks': {'index': [0, 1, 2, 3, 4, 5, 6, 7, 8, 9, 10, 11, 12, 13, 14, 15, 16, 17, 18, 19, 20, 2…"
      ]
     },
     "metadata": {},
     "output_type": "display_data"
    }
   ],
   "source": [
    "park_map = SedonaKepler.create_map()\n",
    "SedonaKepler.add_df(park_map, park_df, name=\"Parks\")\n",
    "SedonaKepler.add_df(park_map, range_df, name=\"Birds\")\n",
    "park_map"
   ]
  },
  {
   "cell_type": "code",
   "execution_count": null,
   "id": "a71400de-fd59-4293-a544-412825055907",
   "metadata": {},
   "outputs": [],
   "source": [
    "# TODO: load into Neo4j"
   ]
  },
  {
   "cell_type": "code",
   "execution_count": null,
   "id": "65bbefe7-8fe5-406a-952f-aeac851b85c9",
   "metadata": {},
   "outputs": [],
   "source": []
  }
 ],
 "metadata": {
  "kernelspec": {
   "display_name": "Python 3 (ipykernel)",
   "language": "python",
   "name": "python3"
  },
  "language_info": {
   "codemirror_mode": {
    "name": "ipython",
    "version": 3
   },
   "file_extension": ".py",
   "mimetype": "text/x-python",
   "name": "python",
   "nbconvert_exporter": "python",
   "pygments_lexer": "ipython3",
   "version": "3.10.11"
  }
 },
 "nbformat": 4,
 "nbformat_minor": 5
}
